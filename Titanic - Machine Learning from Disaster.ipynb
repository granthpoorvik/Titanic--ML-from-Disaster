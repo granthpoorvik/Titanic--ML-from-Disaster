{
 "cells": [
  {
   "cell_type": "code",
   "execution_count": 1,
   "id": "a85a415d",
   "metadata": {
    "_cell_guid": "b1076dfc-b9ad-4769-8c92-a6c4dae69d19",
    "_uuid": "8f2839f25d086af736a60e9eeb907d3b93b6e0e5",
    "execution": {
     "iopub.execute_input": "2023-11-13T12:35:06.886394Z",
     "iopub.status.busy": "2023-11-13T12:35:06.885532Z",
     "iopub.status.idle": "2023-11-13T12:35:07.318312Z",
     "shell.execute_reply": "2023-11-13T12:35:07.317346Z"
    },
    "papermill": {
     "duration": 0.45223,
     "end_time": "2023-11-13T12:35:07.321175",
     "exception": false,
     "start_time": "2023-11-13T12:35:06.868945",
     "status": "completed"
    },
    "tags": []
   },
   "outputs": [
    {
     "name": "stdout",
     "output_type": "stream",
     "text": [
      "/kaggle/input/titanic/train.csv\n",
      "/kaggle/input/titanic/test.csv\n",
      "/kaggle/input/titanic/gender_submission.csv\n"
     ]
    }
   ],
   "source": [
    "# This Python 3 environment comes with many helpful analytics libraries installed\n",
    "# It is defined by the kaggle/python Docker image: https://github.com/kaggle/docker-python\n",
    "# For example, here's several helpful packages to load\n",
    "\n",
    "import numpy as np # linear algebra\n",
    "import pandas as pd # data processing, CSV file I/O (e.g. pd.read_csv)\n",
    "\n",
    "# Input data files are available in the read-only \"../input/\" directory\n",
    "# For example, running this (by clicking run or pressing Shift+Enter) will list all files under the input directory\n",
    "\n",
    "import os\n",
    "for dirname, _, filenames in os.walk('/kaggle/input'):\n",
    "    for filename in filenames:\n",
    "        print(os.path.join(dirname, filename))\n",
    "\n",
    "# You can write up to 20GB to the current directory (/kaggle/working/) that gets preserved as output when you create a version using \"Save & Run All\" \n",
    "# You can also write temporary files to /kaggle/temp/, but they won't be saved outside of the current session"
   ]
  },
  {
   "cell_type": "code",
   "execution_count": 2,
   "id": "960c259d",
   "metadata": {
    "execution": {
     "iopub.execute_input": "2023-11-13T12:35:07.352934Z",
     "iopub.status.busy": "2023-11-13T12:35:07.352425Z",
     "iopub.status.idle": "2023-11-13T12:35:07.414721Z",
     "shell.execute_reply": "2023-11-13T12:35:07.413567Z"
    },
    "papermill": {
     "duration": 0.080939,
     "end_time": "2023-11-13T12:35:07.417430",
     "exception": false,
     "start_time": "2023-11-13T12:35:07.336491",
     "status": "completed"
    },
    "tags": []
   },
   "outputs": [
    {
     "data": {
      "text/html": [
       "<div>\n",
       "<style scoped>\n",
       "    .dataframe tbody tr th:only-of-type {\n",
       "        vertical-align: middle;\n",
       "    }\n",
       "\n",
       "    .dataframe tbody tr th {\n",
       "        vertical-align: top;\n",
       "    }\n",
       "\n",
       "    .dataframe thead th {\n",
       "        text-align: right;\n",
       "    }\n",
       "</style>\n",
       "<table border=\"1\" class=\"dataframe\">\n",
       "  <thead>\n",
       "    <tr style=\"text-align: right;\">\n",
       "      <th></th>\n",
       "      <th>PassengerId</th>\n",
       "      <th>Survived</th>\n",
       "      <th>Pclass</th>\n",
       "      <th>Name</th>\n",
       "      <th>Sex</th>\n",
       "      <th>Age</th>\n",
       "      <th>SibSp</th>\n",
       "      <th>Parch</th>\n",
       "      <th>Ticket</th>\n",
       "      <th>Fare</th>\n",
       "      <th>Cabin</th>\n",
       "      <th>Embarked</th>\n",
       "    </tr>\n",
       "  </thead>\n",
       "  <tbody>\n",
       "    <tr>\n",
       "      <th>0</th>\n",
       "      <td>1</td>\n",
       "      <td>0</td>\n",
       "      <td>3</td>\n",
       "      <td>Braund, Mr. Owen Harris</td>\n",
       "      <td>male</td>\n",
       "      <td>22.0</td>\n",
       "      <td>1</td>\n",
       "      <td>0</td>\n",
       "      <td>A/5 21171</td>\n",
       "      <td>7.2500</td>\n",
       "      <td>NaN</td>\n",
       "      <td>S</td>\n",
       "    </tr>\n",
       "    <tr>\n",
       "      <th>1</th>\n",
       "      <td>2</td>\n",
       "      <td>1</td>\n",
       "      <td>1</td>\n",
       "      <td>Cumings, Mrs. John Bradley (Florence Briggs Th...</td>\n",
       "      <td>female</td>\n",
       "      <td>38.0</td>\n",
       "      <td>1</td>\n",
       "      <td>0</td>\n",
       "      <td>PC 17599</td>\n",
       "      <td>71.2833</td>\n",
       "      <td>C85</td>\n",
       "      <td>C</td>\n",
       "    </tr>\n",
       "    <tr>\n",
       "      <th>2</th>\n",
       "      <td>3</td>\n",
       "      <td>1</td>\n",
       "      <td>3</td>\n",
       "      <td>Heikkinen, Miss. Laina</td>\n",
       "      <td>female</td>\n",
       "      <td>26.0</td>\n",
       "      <td>0</td>\n",
       "      <td>0</td>\n",
       "      <td>STON/O2. 3101282</td>\n",
       "      <td>7.9250</td>\n",
       "      <td>NaN</td>\n",
       "      <td>S</td>\n",
       "    </tr>\n",
       "    <tr>\n",
       "      <th>3</th>\n",
       "      <td>4</td>\n",
       "      <td>1</td>\n",
       "      <td>1</td>\n",
       "      <td>Futrelle, Mrs. Jacques Heath (Lily May Peel)</td>\n",
       "      <td>female</td>\n",
       "      <td>35.0</td>\n",
       "      <td>1</td>\n",
       "      <td>0</td>\n",
       "      <td>113803</td>\n",
       "      <td>53.1000</td>\n",
       "      <td>C123</td>\n",
       "      <td>S</td>\n",
       "    </tr>\n",
       "    <tr>\n",
       "      <th>4</th>\n",
       "      <td>5</td>\n",
       "      <td>0</td>\n",
       "      <td>3</td>\n",
       "      <td>Allen, Mr. William Henry</td>\n",
       "      <td>male</td>\n",
       "      <td>35.0</td>\n",
       "      <td>0</td>\n",
       "      <td>0</td>\n",
       "      <td>373450</td>\n",
       "      <td>8.0500</td>\n",
       "      <td>NaN</td>\n",
       "      <td>S</td>\n",
       "    </tr>\n",
       "    <tr>\n",
       "      <th>...</th>\n",
       "      <td>...</td>\n",
       "      <td>...</td>\n",
       "      <td>...</td>\n",
       "      <td>...</td>\n",
       "      <td>...</td>\n",
       "      <td>...</td>\n",
       "      <td>...</td>\n",
       "      <td>...</td>\n",
       "      <td>...</td>\n",
       "      <td>...</td>\n",
       "      <td>...</td>\n",
       "      <td>...</td>\n",
       "    </tr>\n",
       "    <tr>\n",
       "      <th>886</th>\n",
       "      <td>887</td>\n",
       "      <td>0</td>\n",
       "      <td>2</td>\n",
       "      <td>Montvila, Rev. Juozas</td>\n",
       "      <td>male</td>\n",
       "      <td>27.0</td>\n",
       "      <td>0</td>\n",
       "      <td>0</td>\n",
       "      <td>211536</td>\n",
       "      <td>13.0000</td>\n",
       "      <td>NaN</td>\n",
       "      <td>S</td>\n",
       "    </tr>\n",
       "    <tr>\n",
       "      <th>887</th>\n",
       "      <td>888</td>\n",
       "      <td>1</td>\n",
       "      <td>1</td>\n",
       "      <td>Graham, Miss. Margaret Edith</td>\n",
       "      <td>female</td>\n",
       "      <td>19.0</td>\n",
       "      <td>0</td>\n",
       "      <td>0</td>\n",
       "      <td>112053</td>\n",
       "      <td>30.0000</td>\n",
       "      <td>B42</td>\n",
       "      <td>S</td>\n",
       "    </tr>\n",
       "    <tr>\n",
       "      <th>888</th>\n",
       "      <td>889</td>\n",
       "      <td>0</td>\n",
       "      <td>3</td>\n",
       "      <td>Johnston, Miss. Catherine Helen \"Carrie\"</td>\n",
       "      <td>female</td>\n",
       "      <td>NaN</td>\n",
       "      <td>1</td>\n",
       "      <td>2</td>\n",
       "      <td>W./C. 6607</td>\n",
       "      <td>23.4500</td>\n",
       "      <td>NaN</td>\n",
       "      <td>S</td>\n",
       "    </tr>\n",
       "    <tr>\n",
       "      <th>889</th>\n",
       "      <td>890</td>\n",
       "      <td>1</td>\n",
       "      <td>1</td>\n",
       "      <td>Behr, Mr. Karl Howell</td>\n",
       "      <td>male</td>\n",
       "      <td>26.0</td>\n",
       "      <td>0</td>\n",
       "      <td>0</td>\n",
       "      <td>111369</td>\n",
       "      <td>30.0000</td>\n",
       "      <td>C148</td>\n",
       "      <td>C</td>\n",
       "    </tr>\n",
       "    <tr>\n",
       "      <th>890</th>\n",
       "      <td>891</td>\n",
       "      <td>0</td>\n",
       "      <td>3</td>\n",
       "      <td>Dooley, Mr. Patrick</td>\n",
       "      <td>male</td>\n",
       "      <td>32.0</td>\n",
       "      <td>0</td>\n",
       "      <td>0</td>\n",
       "      <td>370376</td>\n",
       "      <td>7.7500</td>\n",
       "      <td>NaN</td>\n",
       "      <td>Q</td>\n",
       "    </tr>\n",
       "  </tbody>\n",
       "</table>\n",
       "<p>891 rows × 12 columns</p>\n",
       "</div>"
      ],
      "text/plain": [
       "     PassengerId  Survived  Pclass  \\\n",
       "0              1         0       3   \n",
       "1              2         1       1   \n",
       "2              3         1       3   \n",
       "3              4         1       1   \n",
       "4              5         0       3   \n",
       "..           ...       ...     ...   \n",
       "886          887         0       2   \n",
       "887          888         1       1   \n",
       "888          889         0       3   \n",
       "889          890         1       1   \n",
       "890          891         0       3   \n",
       "\n",
       "                                                  Name     Sex   Age  SibSp  \\\n",
       "0                              Braund, Mr. Owen Harris    male  22.0      1   \n",
       "1    Cumings, Mrs. John Bradley (Florence Briggs Th...  female  38.0      1   \n",
       "2                               Heikkinen, Miss. Laina  female  26.0      0   \n",
       "3         Futrelle, Mrs. Jacques Heath (Lily May Peel)  female  35.0      1   \n",
       "4                             Allen, Mr. William Henry    male  35.0      0   \n",
       "..                                                 ...     ...   ...    ...   \n",
       "886                              Montvila, Rev. Juozas    male  27.0      0   \n",
       "887                       Graham, Miss. Margaret Edith  female  19.0      0   \n",
       "888           Johnston, Miss. Catherine Helen \"Carrie\"  female   NaN      1   \n",
       "889                              Behr, Mr. Karl Howell    male  26.0      0   \n",
       "890                                Dooley, Mr. Patrick    male  32.0      0   \n",
       "\n",
       "     Parch            Ticket     Fare Cabin Embarked  \n",
       "0        0         A/5 21171   7.2500   NaN        S  \n",
       "1        0          PC 17599  71.2833   C85        C  \n",
       "2        0  STON/O2. 3101282   7.9250   NaN        S  \n",
       "3        0            113803  53.1000  C123        S  \n",
       "4        0            373450   8.0500   NaN        S  \n",
       "..     ...               ...      ...   ...      ...  \n",
       "886      0            211536  13.0000   NaN        S  \n",
       "887      0            112053  30.0000   B42        S  \n",
       "888      2        W./C. 6607  23.4500   NaN        S  \n",
       "889      0            111369  30.0000  C148        C  \n",
       "890      0            370376   7.7500   NaN        Q  \n",
       "\n",
       "[891 rows x 12 columns]"
      ]
     },
     "execution_count": 2,
     "metadata": {},
     "output_type": "execute_result"
    }
   ],
   "source": [
    "data=pd.read_csv(\"/kaggle/input/titanic/train.csv\")\n",
    "data"
   ]
  },
  {
   "cell_type": "code",
   "execution_count": 3,
   "id": "8e38104b",
   "metadata": {
    "execution": {
     "iopub.execute_input": "2023-11-13T12:35:07.450987Z",
     "iopub.status.busy": "2023-11-13T12:35:07.450210Z",
     "iopub.status.idle": "2023-11-13T12:35:07.479979Z",
     "shell.execute_reply": "2023-11-13T12:35:07.478764Z"
    },
    "papermill": {
     "duration": 0.049779,
     "end_time": "2023-11-13T12:35:07.482837",
     "exception": false,
     "start_time": "2023-11-13T12:35:07.433058",
     "status": "completed"
    },
    "tags": []
   },
   "outputs": [
    {
     "name": "stdout",
     "output_type": "stream",
     "text": [
      "<class 'pandas.core.frame.DataFrame'>\n",
      "RangeIndex: 891 entries, 0 to 890\n",
      "Data columns (total 12 columns):\n",
      " #   Column       Non-Null Count  Dtype  \n",
      "---  ------       --------------  -----  \n",
      " 0   PassengerId  891 non-null    int64  \n",
      " 1   Survived     891 non-null    int64  \n",
      " 2   Pclass       891 non-null    int64  \n",
      " 3   Name         891 non-null    object \n",
      " 4   Sex          891 non-null    object \n",
      " 5   Age          714 non-null    float64\n",
      " 6   SibSp        891 non-null    int64  \n",
      " 7   Parch        891 non-null    int64  \n",
      " 8   Ticket       891 non-null    object \n",
      " 9   Fare         891 non-null    float64\n",
      " 10  Cabin        204 non-null    object \n",
      " 11  Embarked     889 non-null    object \n",
      "dtypes: float64(2), int64(5), object(5)\n",
      "memory usage: 83.7+ KB\n"
     ]
    }
   ],
   "source": [
    "data.info()"
   ]
  },
  {
   "cell_type": "code",
   "execution_count": 4,
   "id": "a64975b3",
   "metadata": {
    "execution": {
     "iopub.execute_input": "2023-11-13T12:35:07.515412Z",
     "iopub.status.busy": "2023-11-13T12:35:07.515002Z",
     "iopub.status.idle": "2023-11-13T12:35:07.566940Z",
     "shell.execute_reply": "2023-11-13T12:35:07.566016Z"
    },
    "papermill": {
     "duration": 0.07141,
     "end_time": "2023-11-13T12:35:07.569725",
     "exception": false,
     "start_time": "2023-11-13T12:35:07.498315",
     "status": "completed"
    },
    "tags": []
   },
   "outputs": [
    {
     "data": {
      "text/html": [
       "<div>\n",
       "<style scoped>\n",
       "    .dataframe tbody tr th:only-of-type {\n",
       "        vertical-align: middle;\n",
       "    }\n",
       "\n",
       "    .dataframe tbody tr th {\n",
       "        vertical-align: top;\n",
       "    }\n",
       "\n",
       "    .dataframe thead th {\n",
       "        text-align: right;\n",
       "    }\n",
       "</style>\n",
       "<table border=\"1\" class=\"dataframe\">\n",
       "  <thead>\n",
       "    <tr style=\"text-align: right;\">\n",
       "      <th></th>\n",
       "      <th>PassengerId</th>\n",
       "      <th>Survived</th>\n",
       "      <th>Pclass</th>\n",
       "      <th>Name</th>\n",
       "      <th>Sex</th>\n",
       "      <th>Age</th>\n",
       "      <th>SibSp</th>\n",
       "      <th>Parch</th>\n",
       "      <th>Ticket</th>\n",
       "      <th>Fare</th>\n",
       "      <th>Cabin</th>\n",
       "      <th>Embarked</th>\n",
       "    </tr>\n",
       "  </thead>\n",
       "  <tbody>\n",
       "    <tr>\n",
       "      <th>count</th>\n",
       "      <td>891.000000</td>\n",
       "      <td>891.000000</td>\n",
       "      <td>891.000000</td>\n",
       "      <td>891</td>\n",
       "      <td>891</td>\n",
       "      <td>714.000000</td>\n",
       "      <td>891.000000</td>\n",
       "      <td>891.000000</td>\n",
       "      <td>891</td>\n",
       "      <td>891.000000</td>\n",
       "      <td>204</td>\n",
       "      <td>889</td>\n",
       "    </tr>\n",
       "    <tr>\n",
       "      <th>unique</th>\n",
       "      <td>NaN</td>\n",
       "      <td>NaN</td>\n",
       "      <td>NaN</td>\n",
       "      <td>891</td>\n",
       "      <td>2</td>\n",
       "      <td>NaN</td>\n",
       "      <td>NaN</td>\n",
       "      <td>NaN</td>\n",
       "      <td>681</td>\n",
       "      <td>NaN</td>\n",
       "      <td>147</td>\n",
       "      <td>3</td>\n",
       "    </tr>\n",
       "    <tr>\n",
       "      <th>top</th>\n",
       "      <td>NaN</td>\n",
       "      <td>NaN</td>\n",
       "      <td>NaN</td>\n",
       "      <td>Braund, Mr. Owen Harris</td>\n",
       "      <td>male</td>\n",
       "      <td>NaN</td>\n",
       "      <td>NaN</td>\n",
       "      <td>NaN</td>\n",
       "      <td>347082</td>\n",
       "      <td>NaN</td>\n",
       "      <td>B96 B98</td>\n",
       "      <td>S</td>\n",
       "    </tr>\n",
       "    <tr>\n",
       "      <th>freq</th>\n",
       "      <td>NaN</td>\n",
       "      <td>NaN</td>\n",
       "      <td>NaN</td>\n",
       "      <td>1</td>\n",
       "      <td>577</td>\n",
       "      <td>NaN</td>\n",
       "      <td>NaN</td>\n",
       "      <td>NaN</td>\n",
       "      <td>7</td>\n",
       "      <td>NaN</td>\n",
       "      <td>4</td>\n",
       "      <td>644</td>\n",
       "    </tr>\n",
       "    <tr>\n",
       "      <th>mean</th>\n",
       "      <td>446.000000</td>\n",
       "      <td>0.383838</td>\n",
       "      <td>2.308642</td>\n",
       "      <td>NaN</td>\n",
       "      <td>NaN</td>\n",
       "      <td>29.699118</td>\n",
       "      <td>0.523008</td>\n",
       "      <td>0.381594</td>\n",
       "      <td>NaN</td>\n",
       "      <td>32.204208</td>\n",
       "      <td>NaN</td>\n",
       "      <td>NaN</td>\n",
       "    </tr>\n",
       "    <tr>\n",
       "      <th>std</th>\n",
       "      <td>257.353842</td>\n",
       "      <td>0.486592</td>\n",
       "      <td>0.836071</td>\n",
       "      <td>NaN</td>\n",
       "      <td>NaN</td>\n",
       "      <td>14.526497</td>\n",
       "      <td>1.102743</td>\n",
       "      <td>0.806057</td>\n",
       "      <td>NaN</td>\n",
       "      <td>49.693429</td>\n",
       "      <td>NaN</td>\n",
       "      <td>NaN</td>\n",
       "    </tr>\n",
       "    <tr>\n",
       "      <th>min</th>\n",
       "      <td>1.000000</td>\n",
       "      <td>0.000000</td>\n",
       "      <td>1.000000</td>\n",
       "      <td>NaN</td>\n",
       "      <td>NaN</td>\n",
       "      <td>0.420000</td>\n",
       "      <td>0.000000</td>\n",
       "      <td>0.000000</td>\n",
       "      <td>NaN</td>\n",
       "      <td>0.000000</td>\n",
       "      <td>NaN</td>\n",
       "      <td>NaN</td>\n",
       "    </tr>\n",
       "    <tr>\n",
       "      <th>25%</th>\n",
       "      <td>223.500000</td>\n",
       "      <td>0.000000</td>\n",
       "      <td>2.000000</td>\n",
       "      <td>NaN</td>\n",
       "      <td>NaN</td>\n",
       "      <td>20.125000</td>\n",
       "      <td>0.000000</td>\n",
       "      <td>0.000000</td>\n",
       "      <td>NaN</td>\n",
       "      <td>7.910400</td>\n",
       "      <td>NaN</td>\n",
       "      <td>NaN</td>\n",
       "    </tr>\n",
       "    <tr>\n",
       "      <th>50%</th>\n",
       "      <td>446.000000</td>\n",
       "      <td>0.000000</td>\n",
       "      <td>3.000000</td>\n",
       "      <td>NaN</td>\n",
       "      <td>NaN</td>\n",
       "      <td>28.000000</td>\n",
       "      <td>0.000000</td>\n",
       "      <td>0.000000</td>\n",
       "      <td>NaN</td>\n",
       "      <td>14.454200</td>\n",
       "      <td>NaN</td>\n",
       "      <td>NaN</td>\n",
       "    </tr>\n",
       "    <tr>\n",
       "      <th>75%</th>\n",
       "      <td>668.500000</td>\n",
       "      <td>1.000000</td>\n",
       "      <td>3.000000</td>\n",
       "      <td>NaN</td>\n",
       "      <td>NaN</td>\n",
       "      <td>38.000000</td>\n",
       "      <td>1.000000</td>\n",
       "      <td>0.000000</td>\n",
       "      <td>NaN</td>\n",
       "      <td>31.000000</td>\n",
       "      <td>NaN</td>\n",
       "      <td>NaN</td>\n",
       "    </tr>\n",
       "    <tr>\n",
       "      <th>max</th>\n",
       "      <td>891.000000</td>\n",
       "      <td>1.000000</td>\n",
       "      <td>3.000000</td>\n",
       "      <td>NaN</td>\n",
       "      <td>NaN</td>\n",
       "      <td>80.000000</td>\n",
       "      <td>8.000000</td>\n",
       "      <td>6.000000</td>\n",
       "      <td>NaN</td>\n",
       "      <td>512.329200</td>\n",
       "      <td>NaN</td>\n",
       "      <td>NaN</td>\n",
       "    </tr>\n",
       "  </tbody>\n",
       "</table>\n",
       "</div>"
      ],
      "text/plain": [
       "        PassengerId    Survived      Pclass                     Name   Sex  \\\n",
       "count    891.000000  891.000000  891.000000                      891   891   \n",
       "unique          NaN         NaN         NaN                      891     2   \n",
       "top             NaN         NaN         NaN  Braund, Mr. Owen Harris  male   \n",
       "freq            NaN         NaN         NaN                        1   577   \n",
       "mean     446.000000    0.383838    2.308642                      NaN   NaN   \n",
       "std      257.353842    0.486592    0.836071                      NaN   NaN   \n",
       "min        1.000000    0.000000    1.000000                      NaN   NaN   \n",
       "25%      223.500000    0.000000    2.000000                      NaN   NaN   \n",
       "50%      446.000000    0.000000    3.000000                      NaN   NaN   \n",
       "75%      668.500000    1.000000    3.000000                      NaN   NaN   \n",
       "max      891.000000    1.000000    3.000000                      NaN   NaN   \n",
       "\n",
       "               Age       SibSp       Parch  Ticket        Fare    Cabin  \\\n",
       "count   714.000000  891.000000  891.000000     891  891.000000      204   \n",
       "unique         NaN         NaN         NaN     681         NaN      147   \n",
       "top            NaN         NaN         NaN  347082         NaN  B96 B98   \n",
       "freq           NaN         NaN         NaN       7         NaN        4   \n",
       "mean     29.699118    0.523008    0.381594     NaN   32.204208      NaN   \n",
       "std      14.526497    1.102743    0.806057     NaN   49.693429      NaN   \n",
       "min       0.420000    0.000000    0.000000     NaN    0.000000      NaN   \n",
       "25%      20.125000    0.000000    0.000000     NaN    7.910400      NaN   \n",
       "50%      28.000000    0.000000    0.000000     NaN   14.454200      NaN   \n",
       "75%      38.000000    1.000000    0.000000     NaN   31.000000      NaN   \n",
       "max      80.000000    8.000000    6.000000     NaN  512.329200      NaN   \n",
       "\n",
       "       Embarked  \n",
       "count       889  \n",
       "unique        3  \n",
       "top           S  \n",
       "freq        644  \n",
       "mean        NaN  \n",
       "std         NaN  \n",
       "min         NaN  \n",
       "25%         NaN  \n",
       "50%         NaN  \n",
       "75%         NaN  \n",
       "max         NaN  "
      ]
     },
     "execution_count": 4,
     "metadata": {},
     "output_type": "execute_result"
    }
   ],
   "source": [
    "data.describe(include=\"all\")"
   ]
  },
  {
   "cell_type": "code",
   "execution_count": 5,
   "id": "a8769dec",
   "metadata": {
    "execution": {
     "iopub.execute_input": "2023-11-13T12:35:07.603541Z",
     "iopub.status.busy": "2023-11-13T12:35:07.603128Z",
     "iopub.status.idle": "2023-11-13T12:35:07.612335Z",
     "shell.execute_reply": "2023-11-13T12:35:07.611311Z"
    },
    "papermill": {
     "duration": 0.028982,
     "end_time": "2023-11-13T12:35:07.614768",
     "exception": false,
     "start_time": "2023-11-13T12:35:07.585786",
     "status": "completed"
    },
    "tags": []
   },
   "outputs": [
    {
     "data": {
      "text/plain": [
       "PassengerId      0\n",
       "Survived         0\n",
       "Pclass           0\n",
       "Name             0\n",
       "Sex              0\n",
       "Age            177\n",
       "SibSp            0\n",
       "Parch            0\n",
       "Ticket           0\n",
       "Fare             0\n",
       "Cabin          687\n",
       "Embarked         2\n",
       "dtype: int64"
      ]
     },
     "execution_count": 5,
     "metadata": {},
     "output_type": "execute_result"
    }
   ],
   "source": [
    "data.isnull().sum()"
   ]
  },
  {
   "cell_type": "code",
   "execution_count": 6,
   "id": "87c4fb84",
   "metadata": {
    "execution": {
     "iopub.execute_input": "2023-11-13T12:35:07.650257Z",
     "iopub.status.busy": "2023-11-13T12:35:07.649847Z",
     "iopub.status.idle": "2023-11-13T12:35:07.656785Z",
     "shell.execute_reply": "2023-11-13T12:35:07.655726Z"
    },
    "papermill": {
     "duration": 0.027618,
     "end_time": "2023-11-13T12:35:07.659224",
     "exception": false,
     "start_time": "2023-11-13T12:35:07.631606",
     "status": "completed"
    },
    "tags": []
   },
   "outputs": [
    {
     "data": {
      "text/plain": [
       "(891, 12)"
      ]
     },
     "execution_count": 6,
     "metadata": {},
     "output_type": "execute_result"
    }
   ],
   "source": [
    "data.shape"
   ]
  },
  {
   "cell_type": "code",
   "execution_count": 7,
   "id": "c4ca7af8",
   "metadata": {
    "execution": {
     "iopub.execute_input": "2023-11-13T12:35:07.693537Z",
     "iopub.status.busy": "2023-11-13T12:35:07.693082Z",
     "iopub.status.idle": "2023-11-13T12:35:07.700758Z",
     "shell.execute_reply": "2023-11-13T12:35:07.699547Z"
    },
    "papermill": {
     "duration": 0.027755,
     "end_time": "2023-11-13T12:35:07.703213",
     "exception": false,
     "start_time": "2023-11-13T12:35:07.675458",
     "status": "completed"
    },
    "tags": []
   },
   "outputs": [
    {
     "data": {
      "text/plain": [
       "Index(['PassengerId', 'Survived', 'Pclass', 'Name', 'Sex', 'Age', 'SibSp',\n",
       "       'Parch', 'Ticket', 'Fare', 'Cabin', 'Embarked'],\n",
       "      dtype='object')"
      ]
     },
     "execution_count": 7,
     "metadata": {},
     "output_type": "execute_result"
    }
   ],
   "source": [
    "data.columns"
   ]
  },
  {
   "cell_type": "code",
   "execution_count": 8,
   "id": "d3ddc2f0",
   "metadata": {
    "execution": {
     "iopub.execute_input": "2023-11-13T12:35:07.737662Z",
     "iopub.status.busy": "2023-11-13T12:35:07.737246Z",
     "iopub.status.idle": "2023-11-13T12:35:07.746162Z",
     "shell.execute_reply": "2023-11-13T12:35:07.744904Z"
    },
    "papermill": {
     "duration": 0.029246,
     "end_time": "2023-11-13T12:35:07.748819",
     "exception": false,
     "start_time": "2023-11-13T12:35:07.719573",
     "status": "completed"
    },
    "tags": []
   },
   "outputs": [
    {
     "data": {
      "text/plain": [
       "577"
      ]
     },
     "execution_count": 8,
     "metadata": {},
     "output_type": "execute_result"
    }
   ],
   "source": [
    "sum(data.Sex==\"male\")"
   ]
  },
  {
   "cell_type": "code",
   "execution_count": 9,
   "id": "798cbbcf",
   "metadata": {
    "execution": {
     "iopub.execute_input": "2023-11-13T12:35:07.786444Z",
     "iopub.status.busy": "2023-11-13T12:35:07.786005Z",
     "iopub.status.idle": "2023-11-13T12:35:07.795113Z",
     "shell.execute_reply": "2023-11-13T12:35:07.793900Z"
    },
    "papermill": {
     "duration": 0.031929,
     "end_time": "2023-11-13T12:35:07.797728",
     "exception": false,
     "start_time": "2023-11-13T12:35:07.765799",
     "status": "completed"
    },
    "tags": []
   },
   "outputs": [
    {
     "data": {
      "text/plain": [
       "342"
      ]
     },
     "execution_count": 9,
     "metadata": {},
     "output_type": "execute_result"
    }
   ],
   "source": [
    "data[data.Survived==1].Survived.count()"
   ]
  },
  {
   "cell_type": "code",
   "execution_count": 10,
   "id": "a2e23444",
   "metadata": {
    "execution": {
     "iopub.execute_input": "2023-11-13T12:35:07.836200Z",
     "iopub.status.busy": "2023-11-13T12:35:07.835792Z",
     "iopub.status.idle": "2023-11-13T12:35:07.846357Z",
     "shell.execute_reply": "2023-11-13T12:35:07.845244Z"
    },
    "papermill": {
     "duration": 0.034118,
     "end_time": "2023-11-13T12:35:07.849045",
     "exception": false,
     "start_time": "2023-11-13T12:35:07.814927",
     "status": "completed"
    },
    "tags": []
   },
   "outputs": [
    {
     "data": {
      "text/plain": [
       "PassengerId      0\n",
       "Survived         0\n",
       "Pclass           0\n",
       "Name             0\n",
       "Sex              0\n",
       "Age            177\n",
       "SibSp            0\n",
       "Parch            0\n",
       "Ticket           0\n",
       "Fare             0\n",
       "Cabin          687\n",
       "Embarked         2\n",
       "dtype: int64"
      ]
     },
     "execution_count": 10,
     "metadata": {},
     "output_type": "execute_result"
    }
   ],
   "source": [
    "data.isnull().sum()"
   ]
  },
  {
   "cell_type": "code",
   "execution_count": 11,
   "id": "fe925585",
   "metadata": {
    "execution": {
     "iopub.execute_input": "2023-11-13T12:35:07.885860Z",
     "iopub.status.busy": "2023-11-13T12:35:07.885461Z",
     "iopub.status.idle": "2023-11-13T12:35:09.414519Z",
     "shell.execute_reply": "2023-11-13T12:35:09.413284Z"
    },
    "papermill": {
     "duration": 1.551385,
     "end_time": "2023-11-13T12:35:09.417352",
     "exception": false,
     "start_time": "2023-11-13T12:35:07.865967",
     "status": "completed"
    },
    "tags": []
   },
   "outputs": [],
   "source": [
    "import seaborn as sns\n",
    "import matplotlib.pyplot as plt"
   ]
  },
  {
   "cell_type": "code",
   "execution_count": 12,
   "id": "20aef940",
   "metadata": {
    "execution": {
     "iopub.execute_input": "2023-11-13T12:35:09.513540Z",
     "iopub.status.busy": "2023-11-13T12:35:09.512911Z",
     "iopub.status.idle": "2023-11-13T12:35:10.198225Z",
     "shell.execute_reply": "2023-11-13T12:35:10.196815Z"
    },
    "papermill": {
     "duration": 0.767088,
     "end_time": "2023-11-13T12:35:10.201241",
     "exception": false,
     "start_time": "2023-11-13T12:35:09.434153",
     "status": "completed"
    },
    "tags": []
   },
   "outputs": [
    {
     "data": {
      "text/plain": [
       "<Axes: >"
      ]
     },
     "execution_count": 12,
     "metadata": {},
     "output_type": "execute_result"
    },
    {
     "data": {
      "image/png": "[encoded data removed]",
      "text/plain": [
       "<Figure size 640x480 with 2 Axes>"
      ]
     },
     "metadata": {},
     "output_type": "display_data"
    }
   ],
   "source": [
    "sns.heatmap(data.isnull())"
   ]
  },
  {
   "cell_type": "code",
   "execution_count": 13,
   "id": "54c9c0cc",
   "metadata": {
    "execution": {
     "iopub.execute_input": "2023-11-13T12:35:10.239606Z",
     "iopub.status.busy": "2023-11-13T12:35:10.238902Z",
     "iopub.status.idle": "2023-11-13T12:35:10.249902Z",
     "shell.execute_reply": "2023-11-13T12:35:10.248739Z"
    },
    "papermill": {
     "duration": 0.033199,
     "end_time": "2023-11-13T12:35:10.252522",
     "exception": false,
     "start_time": "2023-11-13T12:35:10.219323",
     "status": "completed"
    },
    "tags": []
   },
   "outputs": [
    {
     "data": {
      "text/plain": [
       "PassengerId     0.000000\n",
       "Survived        0.000000\n",
       "Pclass          0.000000\n",
       "Name            0.000000\n",
       "Sex             0.000000\n",
       "Age            19.865320\n",
       "SibSp           0.000000\n",
       "Parch           0.000000\n",
       "Ticket          0.000000\n",
       "Fare            0.000000\n",
       "Cabin          77.104377\n",
       "Embarked        0.224467\n",
       "dtype: float64"
      ]
     },
     "execution_count": 13,
     "metadata": {},
     "output_type": "execute_result"
    }
   ],
   "source": [
    "per_missing=data.isnull().sum()*100/len(data)\n",
    "per_missing"
   ]
  },
  {
   "cell_type": "code",
   "execution_count": 14,
   "id": "8f3b107c",
   "metadata": {
    "execution": {
     "iopub.execute_input": "2023-11-13T12:35:10.290507Z",
     "iopub.status.busy": "2023-11-13T12:35:10.289654Z",
     "iopub.status.idle": "2023-11-13T12:35:10.296133Z",
     "shell.execute_reply": "2023-11-13T12:35:10.295187Z"
    },
    "papermill": {
     "duration": 0.028477,
     "end_time": "2023-11-13T12:35:10.298832",
     "exception": false,
     "start_time": "2023-11-13T12:35:10.270355",
     "status": "completed"
    },
    "tags": []
   },
   "outputs": [],
   "source": [
    "data.drop([\"Cabin\"],inplace=True,axis=1)"
   ]
  },
  {
   "cell_type": "code",
   "execution_count": 15,
   "id": "01a69944",
   "metadata": {
    "execution": {
     "iopub.execute_input": "2023-11-13T12:35:10.338310Z",
     "iopub.status.busy": "2023-11-13T12:35:10.337500Z",
     "iopub.status.idle": "2023-11-13T12:35:10.345341Z",
     "shell.execute_reply": "2023-11-13T12:35:10.344184Z"
    },
    "papermill": {
     "duration": 0.030631,
     "end_time": "2023-11-13T12:35:10.347691",
     "exception": false,
     "start_time": "2023-11-13T12:35:10.317060",
     "status": "completed"
    },
    "tags": []
   },
   "outputs": [
    {
     "data": {
      "text/plain": [
       "Index(['PassengerId', 'Survived', 'Pclass', 'Name', 'Sex', 'Age', 'SibSp',\n",
       "       'Parch', 'Ticket', 'Fare', 'Embarked'],\n",
       "      dtype='object')"
      ]
     },
     "execution_count": 15,
     "metadata": {},
     "output_type": "execute_result"
    }
   ],
   "source": [
    "data.columns"
   ]
  },
  {
   "cell_type": "code",
   "execution_count": null,
   "id": "2903ef90",
   "metadata": {
    "papermill": {
     "duration": 0.017598,
     "end_time": "2023-11-13T12:35:10.383566",
     "exception": false,
     "start_time": "2023-11-13T12:35:10.365968",
     "status": "completed"
    },
    "tags": []
   },
   "outputs": [],
   "source": [
    "\n"
   ]
  },
  {
   "cell_type": "code",
   "execution_count": 16,
   "id": "3915d253",
   "metadata": {
    "execution": {
     "iopub.execute_input": "2023-11-13T12:35:10.422734Z",
     "iopub.status.busy": "2023-11-13T12:35:10.421998Z",
     "iopub.status.idle": "2023-11-13T12:35:10.428114Z",
     "shell.execute_reply": "2023-11-13T12:35:10.427176Z"
    },
    "papermill": {
     "duration": 0.02878,
     "end_time": "2023-11-13T12:35:10.430895",
     "exception": false,
     "start_time": "2023-11-13T12:35:10.402115",
     "status": "completed"
    },
    "tags": []
   },
   "outputs": [],
   "source": [
    "data[\"Embarked\"].fillna(data[\"Embarked\"].mode().values[0],inplace=True)"
   ]
  },
  {
   "cell_type": "code",
   "execution_count": 17,
   "id": "c17d10c2",
   "metadata": {
    "execution": {
     "iopub.execute_input": "2023-11-13T12:35:10.469654Z",
     "iopub.status.busy": "2023-11-13T12:35:10.468860Z",
     "iopub.status.idle": "2023-11-13T12:35:10.478153Z",
     "shell.execute_reply": "2023-11-13T12:35:10.477126Z"
    },
    "papermill": {
     "duration": 0.031149,
     "end_time": "2023-11-13T12:35:10.480497",
     "exception": false,
     "start_time": "2023-11-13T12:35:10.449348",
     "status": "completed"
    },
    "tags": []
   },
   "outputs": [
    {
     "data": {
      "text/plain": [
       "PassengerId      0\n",
       "Survived         0\n",
       "Pclass           0\n",
       "Name             0\n",
       "Sex              0\n",
       "Age            177\n",
       "SibSp            0\n",
       "Parch            0\n",
       "Ticket           0\n",
       "Fare             0\n",
       "Embarked         0\n",
       "dtype: int64"
      ]
     },
     "execution_count": 17,
     "metadata": {},
     "output_type": "execute_result"
    }
   ],
   "source": [
    "data.isnull().sum()"
   ]
  },
  {
   "cell_type": "code",
   "execution_count": 18,
   "id": "9071cc72",
   "metadata": {
    "execution": {
     "iopub.execute_input": "2023-11-13T12:35:10.519591Z",
     "iopub.status.busy": "2023-11-13T12:35:10.518828Z",
     "iopub.status.idle": "2023-11-13T12:35:10.525622Z",
     "shell.execute_reply": "2023-11-13T12:35:10.524476Z"
    },
    "papermill": {
     "duration": 0.029549,
     "end_time": "2023-11-13T12:35:10.528181",
     "exception": false,
     "start_time": "2023-11-13T12:35:10.498632",
     "status": "completed"
    },
    "tags": []
   },
   "outputs": [],
   "source": [
    "data[\"Age\"].fillna(int(data[\"Age\"].mean()),inplace=True)"
   ]
  },
  {
   "cell_type": "code",
   "execution_count": 19,
   "id": "a5729af9",
   "metadata": {
    "execution": {
     "iopub.execute_input": "2023-11-13T12:35:10.567730Z",
     "iopub.status.busy": "2023-11-13T12:35:10.567033Z",
     "iopub.status.idle": "2023-11-13T12:35:10.584141Z",
     "shell.execute_reply": "2023-11-13T12:35:10.583022Z"
    },
    "papermill": {
     "duration": 0.039582,
     "end_time": "2023-11-13T12:35:10.586699",
     "exception": false,
     "start_time": "2023-11-13T12:35:10.547117",
     "status": "completed"
    },
    "tags": []
   },
   "outputs": [
    {
     "data": {
      "text/html": [
       "<div>\n",
       "<style scoped>\n",
       "    .dataframe tbody tr th:only-of-type {\n",
       "        vertical-align: middle;\n",
       "    }\n",
       "\n",
       "    .dataframe tbody tr th {\n",
       "        vertical-align: top;\n",
       "    }\n",
       "\n",
       "    .dataframe thead th {\n",
       "        text-align: right;\n",
       "    }\n",
       "</style>\n",
       "<table border=\"1\" class=\"dataframe\">\n",
       "  <thead>\n",
       "    <tr style=\"text-align: right;\">\n",
       "      <th></th>\n",
       "      <th>PassengerId</th>\n",
       "      <th>Survived</th>\n",
       "      <th>Pclass</th>\n",
       "      <th>Name</th>\n",
       "      <th>Sex</th>\n",
       "      <th>Age</th>\n",
       "      <th>SibSp</th>\n",
       "      <th>Parch</th>\n",
       "      <th>Ticket</th>\n",
       "      <th>Fare</th>\n",
       "      <th>Embarked</th>\n",
       "    </tr>\n",
       "  </thead>\n",
       "  <tbody>\n",
       "    <tr>\n",
       "      <th>0</th>\n",
       "      <td>1</td>\n",
       "      <td>0</td>\n",
       "      <td>3</td>\n",
       "      <td>Braund, Mr. Owen Harris</td>\n",
       "      <td>male</td>\n",
       "      <td>22.0</td>\n",
       "      <td>1</td>\n",
       "      <td>0</td>\n",
       "      <td>A/5 21171</td>\n",
       "      <td>7.2500</td>\n",
       "      <td>S</td>\n",
       "    </tr>\n",
       "    <tr>\n",
       "      <th>1</th>\n",
       "      <td>2</td>\n",
       "      <td>1</td>\n",
       "      <td>1</td>\n",
       "      <td>Cumings, Mrs. John Bradley (Florence Briggs Th...</td>\n",
       "      <td>female</td>\n",
       "      <td>38.0</td>\n",
       "      <td>1</td>\n",
       "      <td>0</td>\n",
       "      <td>PC 17599</td>\n",
       "      <td>71.2833</td>\n",
       "      <td>C</td>\n",
       "    </tr>\n",
       "    <tr>\n",
       "      <th>2</th>\n",
       "      <td>3</td>\n",
       "      <td>1</td>\n",
       "      <td>3</td>\n",
       "      <td>Heikkinen, Miss. Laina</td>\n",
       "      <td>female</td>\n",
       "      <td>26.0</td>\n",
       "      <td>0</td>\n",
       "      <td>0</td>\n",
       "      <td>STON/O2. 3101282</td>\n",
       "      <td>7.9250</td>\n",
       "      <td>S</td>\n",
       "    </tr>\n",
       "    <tr>\n",
       "      <th>3</th>\n",
       "      <td>4</td>\n",
       "      <td>1</td>\n",
       "      <td>1</td>\n",
       "      <td>Futrelle, Mrs. Jacques Heath (Lily May Peel)</td>\n",
       "      <td>female</td>\n",
       "      <td>35.0</td>\n",
       "      <td>1</td>\n",
       "      <td>0</td>\n",
       "      <td>113803</td>\n",
       "      <td>53.1000</td>\n",
       "      <td>S</td>\n",
       "    </tr>\n",
       "    <tr>\n",
       "      <th>4</th>\n",
       "      <td>5</td>\n",
       "      <td>0</td>\n",
       "      <td>3</td>\n",
       "      <td>Allen, Mr. William Henry</td>\n",
       "      <td>male</td>\n",
       "      <td>35.0</td>\n",
       "      <td>0</td>\n",
       "      <td>0</td>\n",
       "      <td>373450</td>\n",
       "      <td>8.0500</td>\n",
       "      <td>S</td>\n",
       "    </tr>\n",
       "  </tbody>\n",
       "</table>\n",
       "</div>"
      ],
      "text/plain": [
       "   PassengerId  Survived  Pclass  \\\n",
       "0            1         0       3   \n",
       "1            2         1       1   \n",
       "2            3         1       3   \n",
       "3            4         1       1   \n",
       "4            5         0       3   \n",
       "\n",
       "                                                Name     Sex   Age  SibSp  \\\n",
       "0                            Braund, Mr. Owen Harris    male  22.0      1   \n",
       "1  Cumings, Mrs. John Bradley (Florence Briggs Th...  female  38.0      1   \n",
       "2                             Heikkinen, Miss. Laina  female  26.0      0   \n",
       "3       Futrelle, Mrs. Jacques Heath (Lily May Peel)  female  35.0      1   \n",
       "4                           Allen, Mr. William Henry    male  35.0      0   \n",
       "\n",
       "   Parch            Ticket     Fare Embarked  \n",
       "0      0         A/5 21171   7.2500        S  \n",
       "1      0          PC 17599  71.2833        C  \n",
       "2      0  STON/O2. 3101282   7.9250        S  \n",
       "3      0            113803  53.1000        S  \n",
       "4      0            373450   8.0500        S  "
      ]
     },
     "execution_count": 19,
     "metadata": {},
     "output_type": "execute_result"
    }
   ],
   "source": [
    "data.head()"
   ]
  },
  {
   "cell_type": "code",
   "execution_count": 20,
   "id": "09822345",
   "metadata": {
    "execution": {
     "iopub.execute_input": "2023-11-13T12:35:10.627418Z",
     "iopub.status.busy": "2023-11-13T12:35:10.626322Z",
     "iopub.status.idle": "2023-11-13T12:35:10.633974Z",
     "shell.execute_reply": "2023-11-13T12:35:10.633098Z"
    },
    "papermill": {
     "duration": 0.029997,
     "end_time": "2023-11-13T12:35:10.636144",
     "exception": false,
     "start_time": "2023-11-13T12:35:10.606147",
     "status": "completed"
    },
    "tags": []
   },
   "outputs": [
    {
     "data": {
      "text/plain": [
       "array(['male', 'female'], dtype=object)"
      ]
     },
     "execution_count": 20,
     "metadata": {},
     "output_type": "execute_result"
    }
   ],
   "source": [
    "data[\"Sex\"].unique()"
   ]
  },
  {
   "cell_type": "code",
   "execution_count": 21,
   "id": "98e9fb62",
   "metadata": {
    "execution": {
     "iopub.execute_input": "2023-11-13T12:35:10.676310Z",
     "iopub.status.busy": "2023-11-13T12:35:10.674983Z",
     "iopub.status.idle": "2023-11-13T12:35:10.682587Z",
     "shell.execute_reply": "2023-11-13T12:35:10.681504Z"
    },
    "papermill": {
     "duration": 0.030364,
     "end_time": "2023-11-13T12:35:10.685242",
     "exception": false,
     "start_time": "2023-11-13T12:35:10.654878",
     "status": "completed"
    },
    "tags": []
   },
   "outputs": [],
   "source": [
    "data['Sex']=data['Sex'].map({data[\"Sex\"].unique()[0]:1,data[\"Sex\"].unique()[1]:0})"
   ]
  },
  {
   "cell_type": "code",
   "execution_count": null,
   "id": "24d16f32",
   "metadata": {
    "papermill": {
     "duration": 0.0183,
     "end_time": "2023-11-13T12:35:10.722318",
     "exception": false,
     "start_time": "2023-11-13T12:35:10.704018",
     "status": "completed"
    },
    "tags": []
   },
   "outputs": [],
   "source": []
  },
  {
   "cell_type": "code",
   "execution_count": 22,
   "id": "bce6aed1",
   "metadata": {
    "execution": {
     "iopub.execute_input": "2023-11-13T12:35:10.761307Z",
     "iopub.status.busy": "2023-11-13T12:35:10.760884Z",
     "iopub.status.idle": "2023-11-13T12:35:10.769030Z",
     "shell.execute_reply": "2023-11-13T12:35:10.767885Z"
    },
    "papermill": {
     "duration": 0.030782,
     "end_time": "2023-11-13T12:35:10.771517",
     "exception": false,
     "start_time": "2023-11-13T12:35:10.740735",
     "status": "completed"
    },
    "tags": []
   },
   "outputs": [],
   "source": [
    "gg=data['Sex'].map({data[\"Sex\"].unique()[0]:1,data[\"Sex\"].unique()[1]:0})"
   ]
  },
  {
   "cell_type": "code",
   "execution_count": 23,
   "id": "ff3d4f48",
   "metadata": {
    "execution": {
     "iopub.execute_input": "2023-11-13T12:35:10.810115Z",
     "iopub.status.busy": "2023-11-13T12:35:10.809690Z",
     "iopub.status.idle": "2023-11-13T12:35:10.815922Z",
     "shell.execute_reply": "2023-11-13T12:35:10.814794Z"
    },
    "papermill": {
     "duration": 0.028732,
     "end_time": "2023-11-13T12:35:10.818614",
     "exception": false,
     "start_time": "2023-11-13T12:35:10.789882",
     "status": "completed"
    },
    "tags": []
   },
   "outputs": [],
   "source": [
    "data.insert(5,'Gender_New',gg)"
   ]
  },
  {
   "cell_type": "code",
   "execution_count": 24,
   "id": "4a263839",
   "metadata": {
    "execution": {
     "iopub.execute_input": "2023-11-13T12:35:10.861736Z",
     "iopub.status.busy": "2023-11-13T12:35:10.861337Z",
     "iopub.status.idle": "2023-11-13T12:35:10.869665Z",
     "shell.execute_reply": "2023-11-13T12:35:10.868557Z"
    },
    "papermill": {
     "duration": 0.03145,
     "end_time": "2023-11-13T12:35:10.871911",
     "exception": false,
     "start_time": "2023-11-13T12:35:10.840461",
     "status": "completed"
    },
    "tags": []
   },
   "outputs": [
    {
     "data": {
      "text/plain": [
       "array(['S', 'C', 'Q'], dtype=object)"
      ]
     },
     "execution_count": 24,
     "metadata": {},
     "output_type": "execute_result"
    }
   ],
   "source": [
    "data.Embarked.unique()"
   ]
  },
  {
   "cell_type": "code",
   "execution_count": 25,
   "id": "49787aac",
   "metadata": {
    "execution": {
     "iopub.execute_input": "2023-11-13T12:35:10.911829Z",
     "iopub.status.busy": "2023-11-13T12:35:10.910814Z",
     "iopub.status.idle": "2023-11-13T12:35:10.919901Z",
     "shell.execute_reply": "2023-11-13T12:35:10.918796Z"
    },
    "papermill": {
     "duration": 0.032385,
     "end_time": "2023-11-13T12:35:10.923053",
     "exception": false,
     "start_time": "2023-11-13T12:35:10.890668",
     "status": "completed"
    },
    "tags": []
   },
   "outputs": [],
   "source": [
    "data1=pd.get_dummies(data,columns=[\"Embarked\"],dtype=np.int64)"
   ]
  },
  {
   "cell_type": "code",
   "execution_count": 26,
   "id": "3e44b048",
   "metadata": {
    "execution": {
     "iopub.execute_input": "2023-11-13T12:35:10.963647Z",
     "iopub.status.busy": "2023-11-13T12:35:10.963191Z",
     "iopub.status.idle": "2023-11-13T12:35:10.991226Z",
     "shell.execute_reply": "2023-11-13T12:35:10.990155Z"
    },
    "papermill": {
     "duration": 0.051833,
     "end_time": "2023-11-13T12:35:10.993864",
     "exception": false,
     "start_time": "2023-11-13T12:35:10.942031",
     "status": "completed"
    },
    "tags": []
   },
   "outputs": [
    {
     "data": {
      "text/html": [
       "<div>\n",
       "<style scoped>\n",
       "    .dataframe tbody tr th:only-of-type {\n",
       "        vertical-align: middle;\n",
       "    }\n",
       "\n",
       "    .dataframe tbody tr th {\n",
       "        vertical-align: top;\n",
       "    }\n",
       "\n",
       "    .dataframe thead th {\n",
       "        text-align: right;\n",
       "    }\n",
       "</style>\n",
       "<table border=\"1\" class=\"dataframe\">\n",
       "  <thead>\n",
       "    <tr style=\"text-align: right;\">\n",
       "      <th></th>\n",
       "      <th>PassengerId</th>\n",
       "      <th>Survived</th>\n",
       "      <th>Pclass</th>\n",
       "      <th>Name</th>\n",
       "      <th>Sex</th>\n",
       "      <th>Gender_New</th>\n",
       "      <th>Age</th>\n",
       "      <th>SibSp</th>\n",
       "      <th>Parch</th>\n",
       "      <th>Ticket</th>\n",
       "      <th>Fare</th>\n",
       "      <th>Embarked_Q</th>\n",
       "      <th>Embarked_S</th>\n",
       "    </tr>\n",
       "  </thead>\n",
       "  <tbody>\n",
       "    <tr>\n",
       "      <th>0</th>\n",
       "      <td>1</td>\n",
       "      <td>0</td>\n",
       "      <td>3</td>\n",
       "      <td>Braund, Mr. Owen Harris</td>\n",
       "      <td>1</td>\n",
       "      <td>1</td>\n",
       "      <td>22.0</td>\n",
       "      <td>1</td>\n",
       "      <td>0</td>\n",
       "      <td>A/5 21171</td>\n",
       "      <td>7.2500</td>\n",
       "      <td>0</td>\n",
       "      <td>1</td>\n",
       "    </tr>\n",
       "    <tr>\n",
       "      <th>1</th>\n",
       "      <td>2</td>\n",
       "      <td>1</td>\n",
       "      <td>1</td>\n",
       "      <td>Cumings, Mrs. John Bradley (Florence Briggs Th...</td>\n",
       "      <td>0</td>\n",
       "      <td>0</td>\n",
       "      <td>38.0</td>\n",
       "      <td>1</td>\n",
       "      <td>0</td>\n",
       "      <td>PC 17599</td>\n",
       "      <td>71.2833</td>\n",
       "      <td>0</td>\n",
       "      <td>0</td>\n",
       "    </tr>\n",
       "    <tr>\n",
       "      <th>2</th>\n",
       "      <td>3</td>\n",
       "      <td>1</td>\n",
       "      <td>3</td>\n",
       "      <td>Heikkinen, Miss. Laina</td>\n",
       "      <td>0</td>\n",
       "      <td>0</td>\n",
       "      <td>26.0</td>\n",
       "      <td>0</td>\n",
       "      <td>0</td>\n",
       "      <td>STON/O2. 3101282</td>\n",
       "      <td>7.9250</td>\n",
       "      <td>0</td>\n",
       "      <td>1</td>\n",
       "    </tr>\n",
       "    <tr>\n",
       "      <th>3</th>\n",
       "      <td>4</td>\n",
       "      <td>1</td>\n",
       "      <td>1</td>\n",
       "      <td>Futrelle, Mrs. Jacques Heath (Lily May Peel)</td>\n",
       "      <td>0</td>\n",
       "      <td>0</td>\n",
       "      <td>35.0</td>\n",
       "      <td>1</td>\n",
       "      <td>0</td>\n",
       "      <td>113803</td>\n",
       "      <td>53.1000</td>\n",
       "      <td>0</td>\n",
       "      <td>1</td>\n",
       "    </tr>\n",
       "    <tr>\n",
       "      <th>4</th>\n",
       "      <td>5</td>\n",
       "      <td>0</td>\n",
       "      <td>3</td>\n",
       "      <td>Allen, Mr. William Henry</td>\n",
       "      <td>1</td>\n",
       "      <td>1</td>\n",
       "      <td>35.0</td>\n",
       "      <td>0</td>\n",
       "      <td>0</td>\n",
       "      <td>373450</td>\n",
       "      <td>8.0500</td>\n",
       "      <td>0</td>\n",
       "      <td>1</td>\n",
       "    </tr>\n",
       "    <tr>\n",
       "      <th>...</th>\n",
       "      <td>...</td>\n",
       "      <td>...</td>\n",
       "      <td>...</td>\n",
       "      <td>...</td>\n",
       "      <td>...</td>\n",
       "      <td>...</td>\n",
       "      <td>...</td>\n",
       "      <td>...</td>\n",
       "      <td>...</td>\n",
       "      <td>...</td>\n",
       "      <td>...</td>\n",
       "      <td>...</td>\n",
       "      <td>...</td>\n",
       "    </tr>\n",
       "    <tr>\n",
       "      <th>886</th>\n",
       "      <td>887</td>\n",
       "      <td>0</td>\n",
       "      <td>2</td>\n",
       "      <td>Montvila, Rev. Juozas</td>\n",
       "      <td>1</td>\n",
       "      <td>1</td>\n",
       "      <td>27.0</td>\n",
       "      <td>0</td>\n",
       "      <td>0</td>\n",
       "      <td>211536</td>\n",
       "      <td>13.0000</td>\n",
       "      <td>0</td>\n",
       "      <td>1</td>\n",
       "    </tr>\n",
       "    <tr>\n",
       "      <th>887</th>\n",
       "      <td>888</td>\n",
       "      <td>1</td>\n",
       "      <td>1</td>\n",
       "      <td>Graham, Miss. Margaret Edith</td>\n",
       "      <td>0</td>\n",
       "      <td>0</td>\n",
       "      <td>19.0</td>\n",
       "      <td>0</td>\n",
       "      <td>0</td>\n",
       "      <td>112053</td>\n",
       "      <td>30.0000</td>\n",
       "      <td>0</td>\n",
       "      <td>1</td>\n",
       "    </tr>\n",
       "    <tr>\n",
       "      <th>888</th>\n",
       "      <td>889</td>\n",
       "      <td>0</td>\n",
       "      <td>3</td>\n",
       "      <td>Johnston, Miss. Catherine Helen \"Carrie\"</td>\n",
       "      <td>0</td>\n",
       "      <td>0</td>\n",
       "      <td>29.0</td>\n",
       "      <td>1</td>\n",
       "      <td>2</td>\n",
       "      <td>W./C. 6607</td>\n",
       "      <td>23.4500</td>\n",
       "      <td>0</td>\n",
       "      <td>1</td>\n",
       "    </tr>\n",
       "    <tr>\n",
       "      <th>889</th>\n",
       "      <td>890</td>\n",
       "      <td>1</td>\n",
       "      <td>1</td>\n",
       "      <td>Behr, Mr. Karl Howell</td>\n",
       "      <td>1</td>\n",
       "      <td>1</td>\n",
       "      <td>26.0</td>\n",
       "      <td>0</td>\n",
       "      <td>0</td>\n",
       "      <td>111369</td>\n",
       "      <td>30.0000</td>\n",
       "      <td>0</td>\n",
       "      <td>0</td>\n",
       "    </tr>\n",
       "    <tr>\n",
       "      <th>890</th>\n",
       "      <td>891</td>\n",
       "      <td>0</td>\n",
       "      <td>3</td>\n",
       "      <td>Dooley, Mr. Patrick</td>\n",
       "      <td>1</td>\n",
       "      <td>1</td>\n",
       "      <td>32.0</td>\n",
       "      <td>0</td>\n",
       "      <td>0</td>\n",
       "      <td>370376</td>\n",
       "      <td>7.7500</td>\n",
       "      <td>1</td>\n",
       "      <td>0</td>\n",
       "    </tr>\n",
       "  </tbody>\n",
       "</table>\n",
       "<p>891 rows × 13 columns</p>\n",
       "</div>"
      ],
      "text/plain": [
       "     PassengerId  Survived  Pclass  \\\n",
       "0              1         0       3   \n",
       "1              2         1       1   \n",
       "2              3         1       3   \n",
       "3              4         1       1   \n",
       "4              5         0       3   \n",
       "..           ...       ...     ...   \n",
       "886          887         0       2   \n",
       "887          888         1       1   \n",
       "888          889         0       3   \n",
       "889          890         1       1   \n",
       "890          891         0       3   \n",
       "\n",
       "                                                  Name  Sex  Gender_New   Age  \\\n",
       "0                              Braund, Mr. Owen Harris    1           1  22.0   \n",
       "1    Cumings, Mrs. John Bradley (Florence Briggs Th...    0           0  38.0   \n",
       "2                               Heikkinen, Miss. Laina    0           0  26.0   \n",
       "3         Futrelle, Mrs. Jacques Heath (Lily May Peel)    0           0  35.0   \n",
       "4                             Allen, Mr. William Henry    1           1  35.0   \n",
       "..                                                 ...  ...         ...   ...   \n",
       "886                              Montvila, Rev. Juozas    1           1  27.0   \n",
       "887                       Graham, Miss. Margaret Edith    0           0  19.0   \n",
       "888           Johnston, Miss. Catherine Helen \"Carrie\"    0           0  29.0   \n",
       "889                              Behr, Mr. Karl Howell    1           1  26.0   \n",
       "890                                Dooley, Mr. Patrick    1           1  32.0   \n",
       "\n",
       "     SibSp  Parch            Ticket     Fare  Embarked_Q  Embarked_S  \n",
       "0        1      0         A/5 21171   7.2500           0           1  \n",
       "1        1      0          PC 17599  71.2833           0           0  \n",
       "2        0      0  STON/O2. 3101282   7.9250           0           1  \n",
       "3        1      0            113803  53.1000           0           1  \n",
       "4        0      0            373450   8.0500           0           1  \n",
       "..     ...    ...               ...      ...         ...         ...  \n",
       "886      0      0            211536  13.0000           0           1  \n",
       "887      0      0            112053  30.0000           0           1  \n",
       "888      1      2        W./C. 6607  23.4500           0           1  \n",
       "889      0      0            111369  30.0000           0           0  \n",
       "890      0      0            370376   7.7500           1           0  \n",
       "\n",
       "[891 rows x 13 columns]"
      ]
     },
     "execution_count": 26,
     "metadata": {},
     "output_type": "execute_result"
    }
   ],
   "source": [
    "pd.get_dummies(data,columns=[\"Embarked\"],dtype=np.int64,drop_first=True)"
   ]
  },
  {
   "cell_type": "code",
   "execution_count": 27,
   "id": "8c055683",
   "metadata": {
    "execution": {
     "iopub.execute_input": "2023-11-13T12:35:11.035575Z",
     "iopub.status.busy": "2023-11-13T12:35:11.035154Z",
     "iopub.status.idle": "2023-11-13T12:35:11.044677Z",
     "shell.execute_reply": "2023-11-13T12:35:11.043513Z"
    },
    "papermill": {
     "duration": 0.033113,
     "end_time": "2023-11-13T12:35:11.047342",
     "exception": false,
     "start_time": "2023-11-13T12:35:11.014229",
     "status": "completed"
    },
    "tags": []
   },
   "outputs": [
    {
     "data": {
      "text/plain": [
       "Survived\n",
       "0    549\n",
       "1    342\n",
       "Name: count, dtype: int64"
      ]
     },
     "execution_count": 27,
     "metadata": {},
     "output_type": "execute_result"
    }
   ],
   "source": [
    "data.columns\n",
    "data[\"Survived\"].value_counts()"
   ]
  },
  {
   "cell_type": "code",
   "execution_count": 28,
   "id": "3a8c1000",
   "metadata": {
    "execution": {
     "iopub.execute_input": "2023-11-13T12:35:11.090202Z",
     "iopub.status.busy": "2023-11-13T12:35:11.089799Z",
     "iopub.status.idle": "2023-11-13T12:35:11.241529Z",
     "shell.execute_reply": "2023-11-13T12:35:11.240014Z"
    },
    "papermill": {
     "duration": 0.176623,
     "end_time": "2023-11-13T12:35:11.244787",
     "exception": false,
     "start_time": "2023-11-13T12:35:11.068164",
     "status": "completed"
    },
    "tags": []
   },
   "outputs": [
    {
     "data": {
      "text/plain": [
       "<Axes: ylabel='count'>"
      ]
     },
     "execution_count": 28,
     "metadata": {},
     "output_type": "execute_result"
    },
    {
     "data": {
      "image/png": "[encoded data removed]",
      "text/plain": [
       "<Figure size 640x480 with 1 Axes>"
      ]
     },
     "metadata": {},
     "output_type": "display_data"
    }
   ],
   "source": [
    "sns.countplot(data['Survived'] )"
   ]
  },
  {
   "cell_type": "code",
   "execution_count": 29,
   "id": "bb282db0",
   "metadata": {
    "execution": {
     "iopub.execute_input": "2023-11-13T12:35:11.286946Z",
     "iopub.status.busy": "2023-11-13T12:35:11.286575Z",
     "iopub.status.idle": "2023-11-13T12:35:11.293445Z",
     "shell.execute_reply": "2023-11-13T12:35:11.292349Z"
    },
    "papermill": {
     "duration": 0.030777,
     "end_time": "2023-11-13T12:35:11.296029",
     "exception": false,
     "start_time": "2023-11-13T12:35:11.265252",
     "status": "completed"
    },
    "tags": []
   },
   "outputs": [
    {
     "data": {
      "text/plain": [
       "Index(['PassengerId', 'Survived', 'Pclass', 'Name', 'Sex', 'Gender_New', 'Age',\n",
       "       'SibSp', 'Parch', 'Ticket', 'Fare', 'Embarked'],\n",
       "      dtype='object')"
      ]
     },
     "execution_count": 29,
     "metadata": {},
     "output_type": "execute_result"
    }
   ],
   "source": [
    "data.columns"
   ]
  },
  {
   "cell_type": "code",
   "execution_count": 30,
   "id": "54c84dae",
   "metadata": {
    "execution": {
     "iopub.execute_input": "2023-11-13T12:35:11.339562Z",
     "iopub.status.busy": "2023-11-13T12:35:11.338736Z",
     "iopub.status.idle": "2023-11-13T12:35:11.347995Z",
     "shell.execute_reply": "2023-11-13T12:35:11.346749Z"
    },
    "papermill": {
     "duration": 0.033786,
     "end_time": "2023-11-13T12:35:11.350506",
     "exception": false,
     "start_time": "2023-11-13T12:35:11.316720",
     "status": "completed"
    },
    "tags": []
   },
   "outputs": [
    {
     "data": {
      "text/plain": [
       "Pclass\n",
       "3    491\n",
       "1    216\n",
       "2    184\n",
       "Name: count, dtype: int64"
      ]
     },
     "execution_count": 30,
     "metadata": {},
     "output_type": "execute_result"
    }
   ],
   "source": [
    "data.Pclass.value_counts()\n"
   ]
  },
  {
   "cell_type": "code",
   "execution_count": 31,
   "id": "e8334f07",
   "metadata": {
    "execution": {
     "iopub.execute_input": "2023-11-13T12:35:11.393457Z",
     "iopub.status.busy": "2023-11-13T12:35:11.392530Z",
     "iopub.status.idle": "2023-11-13T12:35:11.643662Z",
     "shell.execute_reply": "2023-11-13T12:35:11.642489Z"
    },
    "papermill": {
     "duration": 0.275411,
     "end_time": "2023-11-13T12:35:11.646367",
     "exception": false,
     "start_time": "2023-11-13T12:35:11.370956",
     "status": "completed"
    },
    "tags": []
   },
   "outputs": [
    {
     "data": {
      "text/plain": [
       "<Axes: xlabel='Pclass', ylabel='count'>"
      ]
     },
     "execution_count": 31,
     "metadata": {},
     "output_type": "execute_result"
    },
    {
     "data": {
      "image/png": "[encoded data removed]",
      "text/plain": [
       "<Figure size 640x480 with 1 Axes>"
      ]
     },
     "metadata": {},
     "output_type": "display_data"
    }
   ],
   "source": [
    "sns.countplot(data[\"Pclass\"],x=[3,2,1])"
   ]
  },
  {
   "cell_type": "code",
   "execution_count": 32,
   "id": "73aefb00",
   "metadata": {
    "execution": {
     "iopub.execute_input": "2023-11-13T12:35:11.689839Z",
     "iopub.status.busy": "2023-11-13T12:35:11.689167Z",
     "iopub.status.idle": "2023-11-13T12:35:11.876230Z",
     "shell.execute_reply": "2023-11-13T12:35:11.875079Z"
    },
    "papermill": {
     "duration": 0.211863,
     "end_time": "2023-11-13T12:35:11.878834",
     "exception": false,
     "start_time": "2023-11-13T12:35:11.666971",
     "status": "completed"
    },
    "tags": []
   },
   "outputs": [
    {
     "name": "stdout",
     "output_type": "stream",
     "text": [
      "[3 1 2]\n"
     ]
    },
    {
     "data": {
      "image/png": "[encoded data removed]",
      "text/plain": [
       "<Figure size 640x480 with 1 Axes>"
      ]
     },
     "metadata": {},
     "output_type": "display_data"
    }
   ],
   "source": [
    "import seaborn as sns\n",
    "import matplotlib.pyplot as plt\n",
    "\n",
    "# Check unique values in \"Pclass\"\n",
    "print(data[\"Pclass\"].unique())\n",
    "\n",
    "# If needed, convert to categorical type\n",
    "data[\"Pclass\"] = data[\"Pclass\"].astype(\"category\")\n",
    "\n",
    "# Plot the countplot\n",
    "sns.countplot(data[\"Pclass\"])\n",
    "plt.show()\n"
   ]
  },
  {
   "cell_type": "code",
   "execution_count": 33,
   "id": "fa642ca0",
   "metadata": {
    "execution": {
     "iopub.execute_input": "2023-11-13T12:35:11.923111Z",
     "iopub.status.busy": "2023-11-13T12:35:11.922715Z",
     "iopub.status.idle": "2023-11-13T12:35:11.948057Z",
     "shell.execute_reply": "2023-11-13T12:35:11.947191Z"
    },
    "papermill": {
     "duration": 0.050137,
     "end_time": "2023-11-13T12:35:11.950451",
     "exception": false,
     "start_time": "2023-11-13T12:35:11.900314",
     "status": "completed"
    },
    "tags": []
   },
   "outputs": [
    {
     "data": {
      "text/html": [
       "<div>\n",
       "<style scoped>\n",
       "    .dataframe tbody tr th:only-of-type {\n",
       "        vertical-align: middle;\n",
       "    }\n",
       "\n",
       "    .dataframe tbody tr th {\n",
       "        vertical-align: top;\n",
       "    }\n",
       "\n",
       "    .dataframe thead th {\n",
       "        text-align: right;\n",
       "    }\n",
       "</style>\n",
       "<table border=\"1\" class=\"dataframe\">\n",
       "  <thead>\n",
       "    <tr style=\"text-align: right;\">\n",
       "      <th></th>\n",
       "      <th>PassengerId</th>\n",
       "      <th>Survived</th>\n",
       "      <th>Pclass</th>\n",
       "      <th>Name</th>\n",
       "      <th>Sex</th>\n",
       "      <th>Gender_New</th>\n",
       "      <th>Age</th>\n",
       "      <th>SibSp</th>\n",
       "      <th>Parch</th>\n",
       "      <th>Ticket</th>\n",
       "      <th>Fare</th>\n",
       "      <th>Embarked</th>\n",
       "    </tr>\n",
       "  </thead>\n",
       "  <tbody>\n",
       "    <tr>\n",
       "      <th>0</th>\n",
       "      <td>1</td>\n",
       "      <td>0</td>\n",
       "      <td>3</td>\n",
       "      <td>Braund, Mr. Owen Harris</td>\n",
       "      <td>1</td>\n",
       "      <td>1</td>\n",
       "      <td>22.0</td>\n",
       "      <td>1</td>\n",
       "      <td>0</td>\n",
       "      <td>A/5 21171</td>\n",
       "      <td>7.2500</td>\n",
       "      <td>S</td>\n",
       "    </tr>\n",
       "    <tr>\n",
       "      <th>1</th>\n",
       "      <td>2</td>\n",
       "      <td>1</td>\n",
       "      <td>1</td>\n",
       "      <td>Cumings, Mrs. John Bradley (Florence Briggs Th...</td>\n",
       "      <td>0</td>\n",
       "      <td>0</td>\n",
       "      <td>38.0</td>\n",
       "      <td>1</td>\n",
       "      <td>0</td>\n",
       "      <td>PC 17599</td>\n",
       "      <td>71.2833</td>\n",
       "      <td>C</td>\n",
       "    </tr>\n",
       "    <tr>\n",
       "      <th>2</th>\n",
       "      <td>3</td>\n",
       "      <td>1</td>\n",
       "      <td>3</td>\n",
       "      <td>Heikkinen, Miss. Laina</td>\n",
       "      <td>0</td>\n",
       "      <td>0</td>\n",
       "      <td>26.0</td>\n",
       "      <td>0</td>\n",
       "      <td>0</td>\n",
       "      <td>STON/O2. 3101282</td>\n",
       "      <td>7.9250</td>\n",
       "      <td>S</td>\n",
       "    </tr>\n",
       "    <tr>\n",
       "      <th>3</th>\n",
       "      <td>4</td>\n",
       "      <td>1</td>\n",
       "      <td>1</td>\n",
       "      <td>Futrelle, Mrs. Jacques Heath (Lily May Peel)</td>\n",
       "      <td>0</td>\n",
       "      <td>0</td>\n",
       "      <td>35.0</td>\n",
       "      <td>1</td>\n",
       "      <td>0</td>\n",
       "      <td>113803</td>\n",
       "      <td>53.1000</td>\n",
       "      <td>S</td>\n",
       "    </tr>\n",
       "    <tr>\n",
       "      <th>4</th>\n",
       "      <td>5</td>\n",
       "      <td>0</td>\n",
       "      <td>3</td>\n",
       "      <td>Allen, Mr. William Henry</td>\n",
       "      <td>1</td>\n",
       "      <td>1</td>\n",
       "      <td>35.0</td>\n",
       "      <td>0</td>\n",
       "      <td>0</td>\n",
       "      <td>373450</td>\n",
       "      <td>8.0500</td>\n",
       "      <td>S</td>\n",
       "    </tr>\n",
       "    <tr>\n",
       "      <th>...</th>\n",
       "      <td>...</td>\n",
       "      <td>...</td>\n",
       "      <td>...</td>\n",
       "      <td>...</td>\n",
       "      <td>...</td>\n",
       "      <td>...</td>\n",
       "      <td>...</td>\n",
       "      <td>...</td>\n",
       "      <td>...</td>\n",
       "      <td>...</td>\n",
       "      <td>...</td>\n",
       "      <td>...</td>\n",
       "    </tr>\n",
       "    <tr>\n",
       "      <th>886</th>\n",
       "      <td>887</td>\n",
       "      <td>0</td>\n",
       "      <td>2</td>\n",
       "      <td>Montvila, Rev. Juozas</td>\n",
       "      <td>1</td>\n",
       "      <td>1</td>\n",
       "      <td>27.0</td>\n",
       "      <td>0</td>\n",
       "      <td>0</td>\n",
       "      <td>211536</td>\n",
       "      <td>13.0000</td>\n",
       "      <td>S</td>\n",
       "    </tr>\n",
       "    <tr>\n",
       "      <th>887</th>\n",
       "      <td>888</td>\n",
       "      <td>1</td>\n",
       "      <td>1</td>\n",
       "      <td>Graham, Miss. Margaret Edith</td>\n",
       "      <td>0</td>\n",
       "      <td>0</td>\n",
       "      <td>19.0</td>\n",
       "      <td>0</td>\n",
       "      <td>0</td>\n",
       "      <td>112053</td>\n",
       "      <td>30.0000</td>\n",
       "      <td>S</td>\n",
       "    </tr>\n",
       "    <tr>\n",
       "      <th>888</th>\n",
       "      <td>889</td>\n",
       "      <td>0</td>\n",
       "      <td>3</td>\n",
       "      <td>Johnston, Miss. Catherine Helen \"Carrie\"</td>\n",
       "      <td>0</td>\n",
       "      <td>0</td>\n",
       "      <td>29.0</td>\n",
       "      <td>1</td>\n",
       "      <td>2</td>\n",
       "      <td>W./C. 6607</td>\n",
       "      <td>23.4500</td>\n",
       "      <td>S</td>\n",
       "    </tr>\n",
       "    <tr>\n",
       "      <th>889</th>\n",
       "      <td>890</td>\n",
       "      <td>1</td>\n",
       "      <td>1</td>\n",
       "      <td>Behr, Mr. Karl Howell</td>\n",
       "      <td>1</td>\n",
       "      <td>1</td>\n",
       "      <td>26.0</td>\n",
       "      <td>0</td>\n",
       "      <td>0</td>\n",
       "      <td>111369</td>\n",
       "      <td>30.0000</td>\n",
       "      <td>C</td>\n",
       "    </tr>\n",
       "    <tr>\n",
       "      <th>890</th>\n",
       "      <td>891</td>\n",
       "      <td>0</td>\n",
       "      <td>3</td>\n",
       "      <td>Dooley, Mr. Patrick</td>\n",
       "      <td>1</td>\n",
       "      <td>1</td>\n",
       "      <td>32.0</td>\n",
       "      <td>0</td>\n",
       "      <td>0</td>\n",
       "      <td>370376</td>\n",
       "      <td>7.7500</td>\n",
       "      <td>Q</td>\n",
       "    </tr>\n",
       "  </tbody>\n",
       "</table>\n",
       "<p>891 rows × 12 columns</p>\n",
       "</div>"
      ],
      "text/plain": [
       "     PassengerId  Survived Pclass  \\\n",
       "0              1         0      3   \n",
       "1              2         1      1   \n",
       "2              3         1      3   \n",
       "3              4         1      1   \n",
       "4              5         0      3   \n",
       "..           ...       ...    ...   \n",
       "886          887         0      2   \n",
       "887          888         1      1   \n",
       "888          889         0      3   \n",
       "889          890         1      1   \n",
       "890          891         0      3   \n",
       "\n",
       "                                                  Name  Sex  Gender_New   Age  \\\n",
       "0                              Braund, Mr. Owen Harris    1           1  22.0   \n",
       "1    Cumings, Mrs. John Bradley (Florence Briggs Th...    0           0  38.0   \n",
       "2                               Heikkinen, Miss. Laina    0           0  26.0   \n",
       "3         Futrelle, Mrs. Jacques Heath (Lily May Peel)    0           0  35.0   \n",
       "4                             Allen, Mr. William Henry    1           1  35.0   \n",
       "..                                                 ...  ...         ...   ...   \n",
       "886                              Montvila, Rev. Juozas    1           1  27.0   \n",
       "887                       Graham, Miss. Margaret Edith    0           0  19.0   \n",
       "888           Johnston, Miss. Catherine Helen \"Carrie\"    0           0  29.0   \n",
       "889                              Behr, Mr. Karl Howell    1           1  26.0   \n",
       "890                                Dooley, Mr. Patrick    1           1  32.0   \n",
       "\n",
       "     SibSp  Parch            Ticket     Fare Embarked  \n",
       "0        1      0         A/5 21171   7.2500        S  \n",
       "1        1      0          PC 17599  71.2833        C  \n",
       "2        0      0  STON/O2. 3101282   7.9250        S  \n",
       "3        1      0            113803  53.1000        S  \n",
       "4        0      0            373450   8.0500        S  \n",
       "..     ...    ...               ...      ...      ...  \n",
       "886      0      0            211536  13.0000        S  \n",
       "887      0      0            112053  30.0000        S  \n",
       "888      1      2        W./C. 6607  23.4500        S  \n",
       "889      0      0            111369  30.0000        C  \n",
       "890      0      0            370376   7.7500        Q  \n",
       "\n",
       "[891 rows x 12 columns]"
      ]
     },
     "execution_count": 33,
     "metadata": {},
     "output_type": "execute_result"
    }
   ],
   "source": [
    "data"
   ]
  },
  {
   "cell_type": "code",
   "execution_count": 34,
   "id": "3fe40f4d",
   "metadata": {
    "execution": {
     "iopub.execute_input": "2023-11-13T12:35:11.995755Z",
     "iopub.status.busy": "2023-11-13T12:35:11.995023Z",
     "iopub.status.idle": "2023-11-13T12:35:12.003310Z",
     "shell.execute_reply": "2023-11-13T12:35:12.001884Z"
    },
    "papermill": {
     "duration": 0.034229,
     "end_time": "2023-11-13T12:35:12.006254",
     "exception": false,
     "start_time": "2023-11-13T12:35:11.972025",
     "status": "completed"
    },
    "tags": []
   },
   "outputs": [
    {
     "data": {
      "text/plain": [
       "Sex\n",
       "1    577\n",
       "0    314\n",
       "Name: count, dtype: int64"
      ]
     },
     "execution_count": 34,
     "metadata": {},
     "output_type": "execute_result"
    }
   ],
   "source": [
    "data[\"Sex\"].value_counts()"
   ]
  },
  {
   "cell_type": "code",
   "execution_count": 35,
   "id": "ec259c18",
   "metadata": {
    "execution": {
     "iopub.execute_input": "2023-11-13T12:35:12.052058Z",
     "iopub.status.busy": "2023-11-13T12:35:12.051626Z",
     "iopub.status.idle": "2023-11-13T12:35:12.373666Z",
     "shell.execute_reply": "2023-11-13T12:35:12.372495Z"
    },
    "papermill": {
     "duration": 0.348468,
     "end_time": "2023-11-13T12:35:12.376538",
     "exception": false,
     "start_time": "2023-11-13T12:35:12.028070",
     "status": "completed"
    },
    "tags": []
   },
   "outputs": [
    {
     "data": {
      "text/plain": [
       "(array([ 54.,  46., 177., 346., 118.,  70.,  45.,  24.,   9.,   2.]),\n",
       " array([ 0.42 ,  8.378, 16.336, 24.294, 32.252, 40.21 , 48.168, 56.126,\n",
       "        64.084, 72.042, 80.   ]),\n",
       " <BarContainer object of 10 artists>)"
      ]
     },
     "execution_count": 35,
     "metadata": {},
     "output_type": "execute_result"
    },
    {
     "data": {
      "image/png": "[encoded data removed]",
      "text/plain": [
       "<Figure size 640x480 with 1 Axes>"
      ]
     },
     "metadata": {},
     "output_type": "display_data"
    }
   ],
   "source": [
    "plt.hist(data[\"Age\"])\n"
   ]
  },
  {
   "cell_type": "code",
   "execution_count": 36,
   "id": "66468c63",
   "metadata": {
    "execution": {
     "iopub.execute_input": "2023-11-13T12:35:12.424057Z",
     "iopub.status.busy": "2023-11-13T12:35:12.423632Z",
     "iopub.status.idle": "2023-11-13T12:35:12.670741Z",
     "shell.execute_reply": "2023-11-13T12:35:12.669481Z"
    },
    "papermill": {
     "duration": 0.27444,
     "end_time": "2023-11-13T12:35:12.673339",
     "exception": false,
     "start_time": "2023-11-13T12:35:12.398899",
     "status": "completed"
    },
    "tags": []
   },
   "outputs": [
    {
     "data": {
      "text/plain": [
       "<Axes: >"
      ]
     },
     "execution_count": 36,
     "metadata": {},
     "output_type": "execute_result"
    },
    {
     "data": {
      "image/png": "[encoded data removed]",
      "text/plain": [
       "<Figure size 640x480 with 1 Axes>"
      ]
     },
     "metadata": {},
     "output_type": "display_data"
    }
   ],
   "source": [
    "sns.boxplot(data[\"Age\"])"
   ]
  },
  {
   "cell_type": "code",
   "execution_count": 37,
   "id": "b6ff1918",
   "metadata": {
    "execution": {
     "iopub.execute_input": "2023-11-13T12:35:12.720830Z",
     "iopub.status.busy": "2023-11-13T12:35:12.720025Z",
     "iopub.status.idle": "2023-11-13T12:35:12.727582Z",
     "shell.execute_reply": "2023-11-13T12:35:12.726503Z"
    },
    "papermill": {
     "duration": 0.033968,
     "end_time": "2023-11-13T12:35:12.729888",
     "exception": false,
     "start_time": "2023-11-13T12:35:12.695920",
     "status": "completed"
    },
    "tags": []
   },
   "outputs": [
    {
     "data": {
      "text/plain": [
       "Index(['PassengerId', 'Survived', 'Pclass', 'Name', 'Sex', 'Gender_New', 'Age',\n",
       "       'SibSp', 'Parch', 'Ticket', 'Fare', 'Embarked'],\n",
       "      dtype='object')"
      ]
     },
     "execution_count": 37,
     "metadata": {},
     "output_type": "execute_result"
    }
   ],
   "source": [
    "data.columns"
   ]
  },
  {
   "cell_type": "markdown",
   "id": "a1706eb4",
   "metadata": {
    "papermill": {
     "duration": 0.022336,
     "end_time": "2023-11-13T12:35:12.775868",
     "exception": false,
     "start_time": "2023-11-13T12:35:12.753532",
     "status": "completed"
    },
    "tags": []
   },
   "source": [
    "## who has the better chance of survival"
   ]
  },
  {
   "cell_type": "code",
   "execution_count": 38,
   "id": "87725a0d",
   "metadata": {
    "execution": {
     "iopub.execute_input": "2023-11-13T12:35:12.829116Z",
     "iopub.status.busy": "2023-11-13T12:35:12.826806Z",
     "iopub.status.idle": "2023-11-13T12:35:13.203467Z",
     "shell.execute_reply": "2023-11-13T12:35:13.202125Z"
    },
    "papermill": {
     "duration": 0.407571,
     "end_time": "2023-11-13T12:35:13.207023",
     "exception": false,
     "start_time": "2023-11-13T12:35:12.799452",
     "status": "completed"
    },
    "tags": []
   },
   "outputs": [
    {
     "data": {
      "text/plain": [
       "<Axes: xlabel='Sex', ylabel='Survived'>"
      ]
     },
     "execution_count": 38,
     "metadata": {},
     "output_type": "execute_result"
    },
    {
     "data": {
      "image/png": "[encoded data removed]",
      "text/plain": [
       "<Figure size 640x480 with 1 Axes>"
      ]
     },
     "metadata": {},
     "output_type": "display_data"
    }
   ],
   "source": [
    "sns.barplot(x=\"Sex\",y=\"Survived\",data=data)"
   ]
  },
  {
   "cell_type": "code",
   "execution_count": 39,
   "id": "df7c1b9f",
   "metadata": {
    "execution": {
     "iopub.execute_input": "2023-11-13T12:35:13.266247Z",
     "iopub.status.busy": "2023-11-13T12:35:13.265703Z",
     "iopub.status.idle": "2023-11-13T12:35:13.647396Z",
     "shell.execute_reply": "2023-11-13T12:35:13.645929Z"
    },
    "papermill": {
     "duration": 0.412045,
     "end_time": "2023-11-13T12:35:13.650540",
     "exception": false,
     "start_time": "2023-11-13T12:35:13.238495",
     "status": "completed"
    },
    "tags": []
   },
   "outputs": [
    {
     "data": {
      "text/plain": [
       "<Axes: xlabel='Pclass', ylabel='Survived'>"
      ]
     },
     "execution_count": 39,
     "metadata": {},
     "output_type": "execute_result"
    },
    {
     "data": {
      "image/png": "[encoded data removed]",
      "text/plain": [
       "<Figure size 640x480 with 1 Axes>"
      ]
     },
     "metadata": {},
     "output_type": "display_data"
    }
   ],
   "source": [
    "sns.barplot(x=\"Pclass\",y=\"Survived\",data=data)"
   ]
  },
  {
   "cell_type": "markdown",
   "id": "065d9df0",
   "metadata": {
    "papermill": {
     "duration": 0.031025,
     "end_time": "2023-11-13T12:35:13.706794",
     "exception": false,
     "start_time": "2023-11-13T12:35:13.675769",
     "status": "completed"
    },
    "tags": []
   },
   "source": [
    "## feature engineering"
   ]
  },
  {
   "cell_type": "code",
   "execution_count": 40,
   "id": "749065e9",
   "metadata": {
    "execution": {
     "iopub.execute_input": "2023-11-13T12:35:13.759916Z",
     "iopub.status.busy": "2023-11-13T12:35:13.759471Z",
     "iopub.status.idle": "2023-11-13T12:35:13.767459Z",
     "shell.execute_reply": "2023-11-13T12:35:13.766146Z"
    },
    "papermill": {
     "duration": 0.038483,
     "end_time": "2023-11-13T12:35:13.769857",
     "exception": false,
     "start_time": "2023-11-13T12:35:13.731374",
     "status": "completed"
    },
    "tags": []
   },
   "outputs": [
    {
     "data": {
      "text/plain": [
       "Index(['PassengerId', 'Survived', 'Pclass', 'Name', 'Sex', 'Gender_New', 'Age',\n",
       "       'SibSp', 'Parch', 'Ticket', 'Fare', 'Embarked'],\n",
       "      dtype='object')"
      ]
     },
     "execution_count": 40,
     "metadata": {},
     "output_type": "execute_result"
    }
   ],
   "source": [
    "data.columns"
   ]
  },
  {
   "cell_type": "code",
   "execution_count": 41,
   "id": "29c96079",
   "metadata": {
    "execution": {
     "iopub.execute_input": "2023-11-13T12:35:13.820942Z",
     "iopub.status.busy": "2023-11-13T12:35:13.820560Z",
     "iopub.status.idle": "2023-11-13T12:35:13.827308Z",
     "shell.execute_reply": "2023-11-13T12:35:13.826017Z"
    },
    "papermill": {
     "duration": 0.035696,
     "end_time": "2023-11-13T12:35:13.830090",
     "exception": false,
     "start_time": "2023-11-13T12:35:13.794394",
     "status": "completed"
    },
    "tags": []
   },
   "outputs": [],
   "source": [
    "data[\"Family\"]=data.SibSp+data.Parch"
   ]
  },
  {
   "cell_type": "code",
   "execution_count": 42,
   "id": "fda091f9",
   "metadata": {
    "execution": {
     "iopub.execute_input": "2023-11-13T12:35:13.882651Z",
     "iopub.status.busy": "2023-11-13T12:35:13.882208Z",
     "iopub.status.idle": "2023-11-13T12:35:13.909070Z",
     "shell.execute_reply": "2023-11-13T12:35:13.907859Z"
    },
    "papermill": {
     "duration": 0.055165,
     "end_time": "2023-11-13T12:35:13.911701",
     "exception": false,
     "start_time": "2023-11-13T12:35:13.856536",
     "status": "completed"
    },
    "tags": []
   },
   "outputs": [
    {
     "data": {
      "text/html": [
       "<div>\n",
       "<style scoped>\n",
       "    .dataframe tbody tr th:only-of-type {\n",
       "        vertical-align: middle;\n",
       "    }\n",
       "\n",
       "    .dataframe tbody tr th {\n",
       "        vertical-align: top;\n",
       "    }\n",
       "\n",
       "    .dataframe thead th {\n",
       "        text-align: right;\n",
       "    }\n",
       "</style>\n",
       "<table border=\"1\" class=\"dataframe\">\n",
       "  <thead>\n",
       "    <tr style=\"text-align: right;\">\n",
       "      <th></th>\n",
       "      <th>PassengerId</th>\n",
       "      <th>Survived</th>\n",
       "      <th>Pclass</th>\n",
       "      <th>Name</th>\n",
       "      <th>Sex</th>\n",
       "      <th>Gender_New</th>\n",
       "      <th>Age</th>\n",
       "      <th>SibSp</th>\n",
       "      <th>Parch</th>\n",
       "      <th>Ticket</th>\n",
       "      <th>Fare</th>\n",
       "      <th>Embarked</th>\n",
       "      <th>Family</th>\n",
       "    </tr>\n",
       "  </thead>\n",
       "  <tbody>\n",
       "    <tr>\n",
       "      <th>0</th>\n",
       "      <td>1</td>\n",
       "      <td>0</td>\n",
       "      <td>3</td>\n",
       "      <td>Braund, Mr. Owen Harris</td>\n",
       "      <td>1</td>\n",
       "      <td>1</td>\n",
       "      <td>22.0</td>\n",
       "      <td>1</td>\n",
       "      <td>0</td>\n",
       "      <td>A/5 21171</td>\n",
       "      <td>7.2500</td>\n",
       "      <td>S</td>\n",
       "      <td>1</td>\n",
       "    </tr>\n",
       "    <tr>\n",
       "      <th>1</th>\n",
       "      <td>2</td>\n",
       "      <td>1</td>\n",
       "      <td>1</td>\n",
       "      <td>Cumings, Mrs. John Bradley (Florence Briggs Th...</td>\n",
       "      <td>0</td>\n",
       "      <td>0</td>\n",
       "      <td>38.0</td>\n",
       "      <td>1</td>\n",
       "      <td>0</td>\n",
       "      <td>PC 17599</td>\n",
       "      <td>71.2833</td>\n",
       "      <td>C</td>\n",
       "      <td>1</td>\n",
       "    </tr>\n",
       "    <tr>\n",
       "      <th>2</th>\n",
       "      <td>3</td>\n",
       "      <td>1</td>\n",
       "      <td>3</td>\n",
       "      <td>Heikkinen, Miss. Laina</td>\n",
       "      <td>0</td>\n",
       "      <td>0</td>\n",
       "      <td>26.0</td>\n",
       "      <td>0</td>\n",
       "      <td>0</td>\n",
       "      <td>STON/O2. 3101282</td>\n",
       "      <td>7.9250</td>\n",
       "      <td>S</td>\n",
       "      <td>0</td>\n",
       "    </tr>\n",
       "    <tr>\n",
       "      <th>3</th>\n",
       "      <td>4</td>\n",
       "      <td>1</td>\n",
       "      <td>1</td>\n",
       "      <td>Futrelle, Mrs. Jacques Heath (Lily May Peel)</td>\n",
       "      <td>0</td>\n",
       "      <td>0</td>\n",
       "      <td>35.0</td>\n",
       "      <td>1</td>\n",
       "      <td>0</td>\n",
       "      <td>113803</td>\n",
       "      <td>53.1000</td>\n",
       "      <td>S</td>\n",
       "      <td>1</td>\n",
       "    </tr>\n",
       "    <tr>\n",
       "      <th>4</th>\n",
       "      <td>5</td>\n",
       "      <td>0</td>\n",
       "      <td>3</td>\n",
       "      <td>Allen, Mr. William Henry</td>\n",
       "      <td>1</td>\n",
       "      <td>1</td>\n",
       "      <td>35.0</td>\n",
       "      <td>0</td>\n",
       "      <td>0</td>\n",
       "      <td>373450</td>\n",
       "      <td>8.0500</td>\n",
       "      <td>S</td>\n",
       "      <td>0</td>\n",
       "    </tr>\n",
       "    <tr>\n",
       "      <th>...</th>\n",
       "      <td>...</td>\n",
       "      <td>...</td>\n",
       "      <td>...</td>\n",
       "      <td>...</td>\n",
       "      <td>...</td>\n",
       "      <td>...</td>\n",
       "      <td>...</td>\n",
       "      <td>...</td>\n",
       "      <td>...</td>\n",
       "      <td>...</td>\n",
       "      <td>...</td>\n",
       "      <td>...</td>\n",
       "      <td>...</td>\n",
       "    </tr>\n",
       "    <tr>\n",
       "      <th>886</th>\n",
       "      <td>887</td>\n",
       "      <td>0</td>\n",
       "      <td>2</td>\n",
       "      <td>Montvila, Rev. Juozas</td>\n",
       "      <td>1</td>\n",
       "      <td>1</td>\n",
       "      <td>27.0</td>\n",
       "      <td>0</td>\n",
       "      <td>0</td>\n",
       "      <td>211536</td>\n",
       "      <td>13.0000</td>\n",
       "      <td>S</td>\n",
       "      <td>0</td>\n",
       "    </tr>\n",
       "    <tr>\n",
       "      <th>887</th>\n",
       "      <td>888</td>\n",
       "      <td>1</td>\n",
       "      <td>1</td>\n",
       "      <td>Graham, Miss. Margaret Edith</td>\n",
       "      <td>0</td>\n",
       "      <td>0</td>\n",
       "      <td>19.0</td>\n",
       "      <td>0</td>\n",
       "      <td>0</td>\n",
       "      <td>112053</td>\n",
       "      <td>30.0000</td>\n",
       "      <td>S</td>\n",
       "      <td>0</td>\n",
       "    </tr>\n",
       "    <tr>\n",
       "      <th>888</th>\n",
       "      <td>889</td>\n",
       "      <td>0</td>\n",
       "      <td>3</td>\n",
       "      <td>Johnston, Miss. Catherine Helen \"Carrie\"</td>\n",
       "      <td>0</td>\n",
       "      <td>0</td>\n",
       "      <td>29.0</td>\n",
       "      <td>1</td>\n",
       "      <td>2</td>\n",
       "      <td>W./C. 6607</td>\n",
       "      <td>23.4500</td>\n",
       "      <td>S</td>\n",
       "      <td>3</td>\n",
       "    </tr>\n",
       "    <tr>\n",
       "      <th>889</th>\n",
       "      <td>890</td>\n",
       "      <td>1</td>\n",
       "      <td>1</td>\n",
       "      <td>Behr, Mr. Karl Howell</td>\n",
       "      <td>1</td>\n",
       "      <td>1</td>\n",
       "      <td>26.0</td>\n",
       "      <td>0</td>\n",
       "      <td>0</td>\n",
       "      <td>111369</td>\n",
       "      <td>30.0000</td>\n",
       "      <td>C</td>\n",
       "      <td>0</td>\n",
       "    </tr>\n",
       "    <tr>\n",
       "      <th>890</th>\n",
       "      <td>891</td>\n",
       "      <td>0</td>\n",
       "      <td>3</td>\n",
       "      <td>Dooley, Mr. Patrick</td>\n",
       "      <td>1</td>\n",
       "      <td>1</td>\n",
       "      <td>32.0</td>\n",
       "      <td>0</td>\n",
       "      <td>0</td>\n",
       "      <td>370376</td>\n",
       "      <td>7.7500</td>\n",
       "      <td>Q</td>\n",
       "      <td>0</td>\n",
       "    </tr>\n",
       "  </tbody>\n",
       "</table>\n",
       "<p>891 rows × 13 columns</p>\n",
       "</div>"
      ],
      "text/plain": [
       "     PassengerId  Survived Pclass  \\\n",
       "0              1         0      3   \n",
       "1              2         1      1   \n",
       "2              3         1      3   \n",
       "3              4         1      1   \n",
       "4              5         0      3   \n",
       "..           ...       ...    ...   \n",
       "886          887         0      2   \n",
       "887          888         1      1   \n",
       "888          889         0      3   \n",
       "889          890         1      1   \n",
       "890          891         0      3   \n",
       "\n",
       "                                                  Name  Sex  Gender_New   Age  \\\n",
       "0                              Braund, Mr. Owen Harris    1           1  22.0   \n",
       "1    Cumings, Mrs. John Bradley (Florence Briggs Th...    0           0  38.0   \n",
       "2                               Heikkinen, Miss. Laina    0           0  26.0   \n",
       "3         Futrelle, Mrs. Jacques Heath (Lily May Peel)    0           0  35.0   \n",
       "4                             Allen, Mr. William Henry    1           1  35.0   \n",
       "..                                                 ...  ...         ...   ...   \n",
       "886                              Montvila, Rev. Juozas    1           1  27.0   \n",
       "887                       Graham, Miss. Margaret Edith    0           0  19.0   \n",
       "888           Johnston, Miss. Catherine Helen \"Carrie\"    0           0  29.0   \n",
       "889                              Behr, Mr. Karl Howell    1           1  26.0   \n",
       "890                                Dooley, Mr. Patrick    1           1  32.0   \n",
       "\n",
       "     SibSp  Parch            Ticket     Fare Embarked  Family  \n",
       "0        1      0         A/5 21171   7.2500        S       1  \n",
       "1        1      0          PC 17599  71.2833        C       1  \n",
       "2        0      0  STON/O2. 3101282   7.9250        S       0  \n",
       "3        1      0            113803  53.1000        S       1  \n",
       "4        0      0            373450   8.0500        S       0  \n",
       "..     ...    ...               ...      ...      ...     ...  \n",
       "886      0      0            211536  13.0000        S       0  \n",
       "887      0      0            112053  30.0000        S       0  \n",
       "888      1      2        W./C. 6607  23.4500        S       3  \n",
       "889      0      0            111369  30.0000        C       0  \n",
       "890      0      0            370376   7.7500        Q       0  \n",
       "\n",
       "[891 rows x 13 columns]"
      ]
     },
     "execution_count": 42,
     "metadata": {},
     "output_type": "execute_result"
    }
   ],
   "source": [
    "data"
   ]
  },
  {
   "cell_type": "code",
   "execution_count": 43,
   "id": "54bd3af5",
   "metadata": {
    "execution": {
     "iopub.execute_input": "2023-11-13T12:35:13.964965Z",
     "iopub.status.busy": "2023-11-13T12:35:13.964576Z",
     "iopub.status.idle": "2023-11-13T12:35:13.974758Z",
     "shell.execute_reply": "2023-11-13T12:35:13.973549Z"
    },
    "papermill": {
     "duration": 0.041045,
     "end_time": "2023-11-13T12:35:13.977604",
     "exception": false,
     "start_time": "2023-11-13T12:35:13.936559",
     "status": "completed"
    },
    "tags": []
   },
   "outputs": [
    {
     "data": {
      "text/plain": [
       "0       3.62500\n",
       "1      35.64165\n",
       "2       7.92500\n",
       "3      26.55000\n",
       "4       8.05000\n",
       "         ...   \n",
       "886    13.00000\n",
       "887    30.00000\n",
       "888     5.86250\n",
       "889    30.00000\n",
       "890     7.75000\n",
       "Length: 891, dtype: float64"
      ]
     },
     "execution_count": 43,
     "metadata": {},
     "output_type": "execute_result"
    }
   ],
   "source": [
    "data.Fare/(data.Family +1)"
   ]
  },
  {
   "cell_type": "code",
   "execution_count": null,
   "id": "e3c6dfd8",
   "metadata": {
    "papermill": {
     "duration": 0.025587,
     "end_time": "2023-11-13T12:35:14.028530",
     "exception": false,
     "start_time": "2023-11-13T12:35:14.002943",
     "status": "completed"
    },
    "tags": []
   },
   "outputs": [],
   "source": []
  },
  {
   "cell_type": "code",
   "execution_count": null,
   "id": "2687d7c9",
   "metadata": {
    "papermill": {
     "duration": 0.025822,
     "end_time": "2023-11-13T12:35:14.078948",
     "exception": false,
     "start_time": "2023-11-13T12:35:14.053126",
     "status": "completed"
    },
    "tags": []
   },
   "outputs": [],
   "source": []
  }
 ],
 "metadata": {
  "kernelspec": {
   "display_name": "Python 3",
   "language": "python",
   "name": "python3"
  },
  "language_info": {
   "codemirror_mode": {
    "name": "ipython",
    "version": 3
   },
   "file_extension": ".py",
   "mimetype": "text/x-python",
   "name": "python",
   "nbconvert_exporter": "python",
   "pygments_lexer": "ipython3",
   "version": "3.10.12"
  },
  "papermill": {
   "default_parameters": {},
   "duration": 11.392156,
   "end_time": "2023-11-13T12:35:14.726198",
   "environment_variables": {},
   "exception": null,
   "input_path": "__notebook__.ipynb",
   "output_path": "__notebook__.ipynb",
   "parameters": {},
   "start_time": "2023-11-13T12:35:03.334042",
   "version": "2.4.0"
  }
 },
 "nbformat": 4,
 "nbformat_minor": 5
}
